{
  "nbformat": 4,
  "nbformat_minor": 0,
  "metadata": {
    "colab": {
      "provenance": []
    },
    "kernelspec": {
      "name": "python3",
      "display_name": "Python 3"
    },
    "language_info": {
      "name": "python"
    }
  },
  "cells": [
    {
      "cell_type": "markdown",
      "source": [
        "폰트 설정"
      ],
      "metadata": {
        "id": "CROTKtcmM3sk"
      }
    },
    {
      "cell_type": "code",
      "source": [
        "#  폰트 설치\n",
        "import matplotlib.font_manager as fm\n",
        "\n",
        "!apt-get -qq -y install fonts-nanum > /dev/null\n",
        "fontpath = '/usr/share/fonts/truetype/nanum/NanumBarunGothic.ttf'\n",
        "font = fm.FontProperties(fname=fontpath, size=9)\n",
        "fm._rebuild()"
      ],
      "metadata": {
        "id": "GAtePigQeYVX"
      },
      "execution_count": 1,
      "outputs": []
    },
    {
      "cell_type": "code",
      "source": [
        "#런타임 재시작\n",
        "import os\n",
        "os.kill(os.getpid(), 9)"
      ],
      "metadata": {
        "id": "nzzclXC8eaVu"
      },
      "execution_count": null,
      "outputs": []
    },
    {
      "cell_type": "code",
      "source": [
        "#  폰트 설정\n",
        "import matplotlib.pyplot as plt\n",
        "import matplotlib as mpl\n",
        "import matplotlib.font_manager as fm\n",
        "\n",
        "# 마이너스 표시 문제\n",
        "mpl.rcParams['axes.unicode_minus'] = False\n",
        "\t\n",
        "# 한글 폰트 설정\n",
        "path = '/usr/share/fonts/truetype/nanum/NanumGothicBold.ttf'\n",
        "font_name = fm.FontProperties(fname=path, size=18).get_name()\n",
        "plt.rc('font', family=font_name)\n",
        "fm._rebuild()"
      ],
      "metadata": {
        "id": "d32A4HIGec7G"
      },
      "execution_count": 1,
      "outputs": []
    },
    {
      "cell_type": "markdown",
      "source": [
        "#**프로젝트 주제**\n",
        "\n",
        "##지난 21 ~ 22시즌 기록을 바탕으로 이번 22 ~ 23시즌 NBA(미국 프로 농구 리그) 우승팀 예측\n",
        "\n",
        "1. 데이터 분석\n",
        "\n",
        "  -  정규 시즌 선수들의 스탯 데이터셋 기본정보\n",
        "  -  팀 순위 데이터셋 기본정보\n",
        "  -  플레이오프 선수들의 스탯 데이터셋 기본정보"
      ],
      "metadata": {
        "id": "bJKaZSU34Im9"
      }
    },
    {
      "cell_type": "markdown",
      "source": [
        "정규 시즌 선수들의 스탯 데이터셋 기본정보"
      ],
      "metadata": {
        "id": "HucuQrjky-Ad"
      }
    },
    {
      "cell_type": "code",
      "source": [
        "import pandas as pd\n",
        "import numpy as np\n",
        "import matplotlib.pyplot as plt\n",
        "import seaborn as sns\n",
        "\n",
        "#Kaggle 사이트를 통해 수집한 데이터셋\n",
        "reg_df=pd.read_csv('/content/RegularPlayerStats.csv') #정규 시즌 선수들의 스탯 데이터\n",
        "\n",
        "print(reg_df.head(5))"
      ],
      "metadata": {
        "id": "3f8HrIIT4cLN",
        "colab": {
          "base_uri": "https://localhost:8080/"
        },
        "outputId": "43908fba-0b86-4a27-f3b5-e76a7e05b3d9"
      },
      "execution_count": 140,
      "outputs": [
        {
          "output_type": "stream",
          "name": "stdout",
          "text": [
            "   Rk             Player Pos  Age   Tm   G  GS    MP   FG   FGA  ...    FT%  \\\n",
            "0   1   Precious Achiuwa   C   22  TOR  73  28  23.6  3.6   8.3  ...  0.595   \n",
            "1   2       Steven Adams   C   28  MEM  76  75  26.3  2.8   5.1  ...  0.543   \n",
            "2   3        Bam Adebayo   C   24  MIA  56  56  32.6  7.3  13.0  ...  0.753   \n",
            "3   4       Santi Aldama  PF   21  MEM  32   0  11.3  1.7   4.1  ...  0.625   \n",
            "4   5  LaMarcus Aldridge   C   36  BRK  47  12  22.3  5.4   9.7  ...  0.873   \n",
            "\n",
            "   ORB  DRB   TRB  AST  STL  BLK  TOV   PF   PTS  \n",
            "0  2.0  4.5   6.5  1.1  0.5  0.6  1.2  2.1   9.1  \n",
            "1  4.6  5.4  10.0  3.4  0.9  0.8  1.5  2.0   6.9  \n",
            "2  2.4  7.6  10.1  3.4  1.4  0.8  2.6  3.1  19.1  \n",
            "3  1.0  1.7   2.7  0.7  0.2  0.3  0.5  1.1   4.1  \n",
            "4  1.6  3.9   5.5  0.9  0.3  1.0  0.9  1.7  12.9  \n",
            "\n",
            "[5 rows x 30 columns]\n"
          ]
        }
      ]
    },
    {
      "cell_type": "code",
      "source": [
        "reg_df.shape"
      ],
      "metadata": {
        "colab": {
          "base_uri": "https://localhost:8080/"
        },
        "id": "UqS8ZOF3uB8s",
        "outputId": "cf814e72-7810-4d17-ddfe-fe05a387d6fb"
      },
      "execution_count": 141,
      "outputs": [
        {
          "output_type": "execute_result",
          "data": {
            "text/plain": [
              "(812, 30)"
            ]
          },
          "metadata": {},
          "execution_count": 141
        }
      ]
    },
    {
      "cell_type": "code",
      "source": [
        "reg_df.info()"
      ],
      "metadata": {
        "colab": {
          "base_uri": "https://localhost:8080/"
        },
        "id": "PBN1qhk9t8gM",
        "outputId": "33fea957-b248-4b90-98a9-4128319e98b5"
      },
      "execution_count": 142,
      "outputs": [
        {
          "output_type": "stream",
          "name": "stdout",
          "text": [
            "<class 'pandas.core.frame.DataFrame'>\n",
            "RangeIndex: 812 entries, 0 to 811\n",
            "Data columns (total 30 columns):\n",
            " #   Column  Non-Null Count  Dtype  \n",
            "---  ------  --------------  -----  \n",
            " 0   Rk      812 non-null    int64  \n",
            " 1   Player  812 non-null    object \n",
            " 2   Pos     812 non-null    object \n",
            " 3   Age     812 non-null    int64  \n",
            " 4   Tm      812 non-null    object \n",
            " 5   G       812 non-null    int64  \n",
            " 6   GS      812 non-null    int64  \n",
            " 7   MP      812 non-null    float64\n",
            " 8   FG      812 non-null    float64\n",
            " 9   FGA     812 non-null    float64\n",
            " 10  FG%     812 non-null    float64\n",
            " 11  3P      812 non-null    float64\n",
            " 12  3PA     812 non-null    float64\n",
            " 13  3P%     812 non-null    float64\n",
            " 14  2P      812 non-null    float64\n",
            " 15  2PA     812 non-null    float64\n",
            " 16  2P%     812 non-null    float64\n",
            " 17  eFG%    812 non-null    float64\n",
            " 18  FT      812 non-null    float64\n",
            " 19  FTA     812 non-null    float64\n",
            " 20  FT%     812 non-null    float64\n",
            " 21  ORB     812 non-null    float64\n",
            " 22  DRB     812 non-null    float64\n",
            " 23  TRB     812 non-null    float64\n",
            " 24  AST     812 non-null    float64\n",
            " 25  STL     812 non-null    float64\n",
            " 26  BLK     812 non-null    float64\n",
            " 27  TOV     812 non-null    float64\n",
            " 28  PF      812 non-null    float64\n",
            " 29  PTS     812 non-null    float64\n",
            "dtypes: float64(23), int64(4), object(3)\n",
            "memory usage: 190.4+ KB\n"
          ]
        }
      ]
    },
    {
      "cell_type": "code",
      "source": [
        "reg_df.describe()"
      ],
      "metadata": {
        "colab": {
          "base_uri": "https://localhost:8080/",
          "height": 393
        },
        "id": "7IzcjhX9fRwS",
        "outputId": "e49dca14-c17c-481c-a41b-50126ac3e2d0"
      },
      "execution_count": 143,
      "outputs": [
        {
          "output_type": "execute_result",
          "data": {
            "text/plain": [
              "               Rk         Age           G          GS          MP          FG  \\\n",
              "count  812.000000  812.000000  812.000000  812.000000  812.000000  812.000000   \n",
              "mean   304.501232   26.051724   36.704433   16.672414   18.265394    2.869951   \n",
              "std    172.637333    4.059640   25.899099   23.817195    9.648292    2.223988   \n",
              "min      1.000000   19.000000    1.000000    0.000000    1.000000    0.000000   \n",
              "25%    158.750000   23.000000   12.000000    0.000000   10.500000    1.200000   \n",
              "50%    300.500000   25.000000   36.500000    4.000000   17.500000    2.400000   \n",
              "75%    459.000000   29.000000   61.000000   25.000000   25.725000    3.900000   \n",
              "max    605.000000   41.000000   82.000000   82.000000   43.500000   11.400000   \n",
              "\n",
              "              FGA         FG%          3P         3PA  ...         FT%  \\\n",
              "count  812.000000  812.000000  812.000000  812.000000  ...  812.000000   \n",
              "mean     6.386576    0.426235    0.871305    2.560591  ...    0.658267   \n",
              "std      4.651121    0.148525    0.841935    2.205642  ...    0.283491   \n",
              "min      0.000000    0.000000    0.000000    0.000000  ...    0.000000   \n",
              "25%      3.000000    0.380750    0.200000    0.800000  ...    0.600000   \n",
              "50%      5.150000    0.439500    0.700000    2.050000  ...    0.750000   \n",
              "75%      8.725000    0.500000    1.400000    3.900000  ...    0.838000   \n",
              "max     21.800000    1.000000    4.500000   11.700000  ...    1.000000   \n",
              "\n",
              "              ORB         DRB         TRB         AST         STL         BLK  \\\n",
              "count  812.000000  812.000000  812.000000  812.000000  812.000000  812.000000   \n",
              "mean     0.812931    2.519828    3.331650    1.808251    0.582759    0.353571   \n",
              "std      0.744196    1.790656    2.352818    1.838080    0.425452    0.360811   \n",
              "min      0.000000    0.000000    0.000000    0.000000    0.000000    0.000000   \n",
              "25%      0.300000    1.300000    1.700000    0.500000    0.300000    0.100000   \n",
              "50%      0.600000    2.300000    2.900000    1.200000    0.500000    0.300000   \n",
              "75%      1.100000    3.400000    4.400000    2.400000    0.900000    0.500000   \n",
              "max      4.600000   11.000000   14.700000   10.800000    2.500000    2.800000   \n",
              "\n",
              "              TOV          PF         PTS  \n",
              "count  812.000000  812.000000  812.000000  \n",
              "mean     0.978695    1.564655    7.812438  \n",
              "std      0.817941    0.826783    6.138077  \n",
              "min      0.000000    0.000000    0.000000  \n",
              "25%      0.400000    1.000000    3.300000  \n",
              "50%      0.800000    1.600000    6.300000  \n",
              "75%      1.300000    2.200000   10.600000  \n",
              "max      4.800000    5.000000   30.600000  \n",
              "\n",
              "[8 rows x 27 columns]"
            ],
            "text/html": [
              "\n",
              "  <div id=\"df-b07f3880-7ced-478b-a24b-299d9b3fa251\">\n",
              "    <div class=\"colab-df-container\">\n",
              "      <div>\n",
              "<style scoped>\n",
              "    .dataframe tbody tr th:only-of-type {\n",
              "        vertical-align: middle;\n",
              "    }\n",
              "\n",
              "    .dataframe tbody tr th {\n",
              "        vertical-align: top;\n",
              "    }\n",
              "\n",
              "    .dataframe thead th {\n",
              "        text-align: right;\n",
              "    }\n",
              "</style>\n",
              "<table border=\"1\" class=\"dataframe\">\n",
              "  <thead>\n",
              "    <tr style=\"text-align: right;\">\n",
              "      <th></th>\n",
              "      <th>Rk</th>\n",
              "      <th>Age</th>\n",
              "      <th>G</th>\n",
              "      <th>GS</th>\n",
              "      <th>MP</th>\n",
              "      <th>FG</th>\n",
              "      <th>FGA</th>\n",
              "      <th>FG%</th>\n",
              "      <th>3P</th>\n",
              "      <th>3PA</th>\n",
              "      <th>...</th>\n",
              "      <th>FT%</th>\n",
              "      <th>ORB</th>\n",
              "      <th>DRB</th>\n",
              "      <th>TRB</th>\n",
              "      <th>AST</th>\n",
              "      <th>STL</th>\n",
              "      <th>BLK</th>\n",
              "      <th>TOV</th>\n",
              "      <th>PF</th>\n",
              "      <th>PTS</th>\n",
              "    </tr>\n",
              "  </thead>\n",
              "  <tbody>\n",
              "    <tr>\n",
              "      <th>count</th>\n",
              "      <td>812.000000</td>\n",
              "      <td>812.000000</td>\n",
              "      <td>812.000000</td>\n",
              "      <td>812.000000</td>\n",
              "      <td>812.000000</td>\n",
              "      <td>812.000000</td>\n",
              "      <td>812.000000</td>\n",
              "      <td>812.000000</td>\n",
              "      <td>812.000000</td>\n",
              "      <td>812.000000</td>\n",
              "      <td>...</td>\n",
              "      <td>812.000000</td>\n",
              "      <td>812.000000</td>\n",
              "      <td>812.000000</td>\n",
              "      <td>812.000000</td>\n",
              "      <td>812.000000</td>\n",
              "      <td>812.000000</td>\n",
              "      <td>812.000000</td>\n",
              "      <td>812.000000</td>\n",
              "      <td>812.000000</td>\n",
              "      <td>812.000000</td>\n",
              "    </tr>\n",
              "    <tr>\n",
              "      <th>mean</th>\n",
              "      <td>304.501232</td>\n",
              "      <td>26.051724</td>\n",
              "      <td>36.704433</td>\n",
              "      <td>16.672414</td>\n",
              "      <td>18.265394</td>\n",
              "      <td>2.869951</td>\n",
              "      <td>6.386576</td>\n",
              "      <td>0.426235</td>\n",
              "      <td>0.871305</td>\n",
              "      <td>2.560591</td>\n",
              "      <td>...</td>\n",
              "      <td>0.658267</td>\n",
              "      <td>0.812931</td>\n",
              "      <td>2.519828</td>\n",
              "      <td>3.331650</td>\n",
              "      <td>1.808251</td>\n",
              "      <td>0.582759</td>\n",
              "      <td>0.353571</td>\n",
              "      <td>0.978695</td>\n",
              "      <td>1.564655</td>\n",
              "      <td>7.812438</td>\n",
              "    </tr>\n",
              "    <tr>\n",
              "      <th>std</th>\n",
              "      <td>172.637333</td>\n",
              "      <td>4.059640</td>\n",
              "      <td>25.899099</td>\n",
              "      <td>23.817195</td>\n",
              "      <td>9.648292</td>\n",
              "      <td>2.223988</td>\n",
              "      <td>4.651121</td>\n",
              "      <td>0.148525</td>\n",
              "      <td>0.841935</td>\n",
              "      <td>2.205642</td>\n",
              "      <td>...</td>\n",
              "      <td>0.283491</td>\n",
              "      <td>0.744196</td>\n",
              "      <td>1.790656</td>\n",
              "      <td>2.352818</td>\n",
              "      <td>1.838080</td>\n",
              "      <td>0.425452</td>\n",
              "      <td>0.360811</td>\n",
              "      <td>0.817941</td>\n",
              "      <td>0.826783</td>\n",
              "      <td>6.138077</td>\n",
              "    </tr>\n",
              "    <tr>\n",
              "      <th>min</th>\n",
              "      <td>1.000000</td>\n",
              "      <td>19.000000</td>\n",
              "      <td>1.000000</td>\n",
              "      <td>0.000000</td>\n",
              "      <td>1.000000</td>\n",
              "      <td>0.000000</td>\n",
              "      <td>0.000000</td>\n",
              "      <td>0.000000</td>\n",
              "      <td>0.000000</td>\n",
              "      <td>0.000000</td>\n",
              "      <td>...</td>\n",
              "      <td>0.000000</td>\n",
              "      <td>0.000000</td>\n",
              "      <td>0.000000</td>\n",
              "      <td>0.000000</td>\n",
              "      <td>0.000000</td>\n",
              "      <td>0.000000</td>\n",
              "      <td>0.000000</td>\n",
              "      <td>0.000000</td>\n",
              "      <td>0.000000</td>\n",
              "      <td>0.000000</td>\n",
              "    </tr>\n",
              "    <tr>\n",
              "      <th>25%</th>\n",
              "      <td>158.750000</td>\n",
              "      <td>23.000000</td>\n",
              "      <td>12.000000</td>\n",
              "      <td>0.000000</td>\n",
              "      <td>10.500000</td>\n",
              "      <td>1.200000</td>\n",
              "      <td>3.000000</td>\n",
              "      <td>0.380750</td>\n",
              "      <td>0.200000</td>\n",
              "      <td>0.800000</td>\n",
              "      <td>...</td>\n",
              "      <td>0.600000</td>\n",
              "      <td>0.300000</td>\n",
              "      <td>1.300000</td>\n",
              "      <td>1.700000</td>\n",
              "      <td>0.500000</td>\n",
              "      <td>0.300000</td>\n",
              "      <td>0.100000</td>\n",
              "      <td>0.400000</td>\n",
              "      <td>1.000000</td>\n",
              "      <td>3.300000</td>\n",
              "    </tr>\n",
              "    <tr>\n",
              "      <th>50%</th>\n",
              "      <td>300.500000</td>\n",
              "      <td>25.000000</td>\n",
              "      <td>36.500000</td>\n",
              "      <td>4.000000</td>\n",
              "      <td>17.500000</td>\n",
              "      <td>2.400000</td>\n",
              "      <td>5.150000</td>\n",
              "      <td>0.439500</td>\n",
              "      <td>0.700000</td>\n",
              "      <td>2.050000</td>\n",
              "      <td>...</td>\n",
              "      <td>0.750000</td>\n",
              "      <td>0.600000</td>\n",
              "      <td>2.300000</td>\n",
              "      <td>2.900000</td>\n",
              "      <td>1.200000</td>\n",
              "      <td>0.500000</td>\n",
              "      <td>0.300000</td>\n",
              "      <td>0.800000</td>\n",
              "      <td>1.600000</td>\n",
              "      <td>6.300000</td>\n",
              "    </tr>\n",
              "    <tr>\n",
              "      <th>75%</th>\n",
              "      <td>459.000000</td>\n",
              "      <td>29.000000</td>\n",
              "      <td>61.000000</td>\n",
              "      <td>25.000000</td>\n",
              "      <td>25.725000</td>\n",
              "      <td>3.900000</td>\n",
              "      <td>8.725000</td>\n",
              "      <td>0.500000</td>\n",
              "      <td>1.400000</td>\n",
              "      <td>3.900000</td>\n",
              "      <td>...</td>\n",
              "      <td>0.838000</td>\n",
              "      <td>1.100000</td>\n",
              "      <td>3.400000</td>\n",
              "      <td>4.400000</td>\n",
              "      <td>2.400000</td>\n",
              "      <td>0.900000</td>\n",
              "      <td>0.500000</td>\n",
              "      <td>1.300000</td>\n",
              "      <td>2.200000</td>\n",
              "      <td>10.600000</td>\n",
              "    </tr>\n",
              "    <tr>\n",
              "      <th>max</th>\n",
              "      <td>605.000000</td>\n",
              "      <td>41.000000</td>\n",
              "      <td>82.000000</td>\n",
              "      <td>82.000000</td>\n",
              "      <td>43.500000</td>\n",
              "      <td>11.400000</td>\n",
              "      <td>21.800000</td>\n",
              "      <td>1.000000</td>\n",
              "      <td>4.500000</td>\n",
              "      <td>11.700000</td>\n",
              "      <td>...</td>\n",
              "      <td>1.000000</td>\n",
              "      <td>4.600000</td>\n",
              "      <td>11.000000</td>\n",
              "      <td>14.700000</td>\n",
              "      <td>10.800000</td>\n",
              "      <td>2.500000</td>\n",
              "      <td>2.800000</td>\n",
              "      <td>4.800000</td>\n",
              "      <td>5.000000</td>\n",
              "      <td>30.600000</td>\n",
              "    </tr>\n",
              "  </tbody>\n",
              "</table>\n",
              "<p>8 rows × 27 columns</p>\n",
              "</div>\n",
              "      <button class=\"colab-df-convert\" onclick=\"convertToInteractive('df-b07f3880-7ced-478b-a24b-299d9b3fa251')\"\n",
              "              title=\"Convert this dataframe to an interactive table.\"\n",
              "              style=\"display:none;\">\n",
              "        \n",
              "  <svg xmlns=\"http://www.w3.org/2000/svg\" height=\"24px\"viewBox=\"0 0 24 24\"\n",
              "       width=\"24px\">\n",
              "    <path d=\"M0 0h24v24H0V0z\" fill=\"none\"/>\n",
              "    <path d=\"M18.56 5.44l.94 2.06.94-2.06 2.06-.94-2.06-.94-.94-2.06-.94 2.06-2.06.94zm-11 1L8.5 8.5l.94-2.06 2.06-.94-2.06-.94L8.5 2.5l-.94 2.06-2.06.94zm10 10l.94 2.06.94-2.06 2.06-.94-2.06-.94-.94-2.06-.94 2.06-2.06.94z\"/><path d=\"M17.41 7.96l-1.37-1.37c-.4-.4-.92-.59-1.43-.59-.52 0-1.04.2-1.43.59L10.3 9.45l-7.72 7.72c-.78.78-.78 2.05 0 2.83L4 21.41c.39.39.9.59 1.41.59.51 0 1.02-.2 1.41-.59l7.78-7.78 2.81-2.81c.8-.78.8-2.07 0-2.86zM5.41 20L4 18.59l7.72-7.72 1.47 1.35L5.41 20z\"/>\n",
              "  </svg>\n",
              "      </button>\n",
              "      \n",
              "  <style>\n",
              "    .colab-df-container {\n",
              "      display:flex;\n",
              "      flex-wrap:wrap;\n",
              "      gap: 12px;\n",
              "    }\n",
              "\n",
              "    .colab-df-convert {\n",
              "      background-color: #E8F0FE;\n",
              "      border: none;\n",
              "      border-radius: 50%;\n",
              "      cursor: pointer;\n",
              "      display: none;\n",
              "      fill: #1967D2;\n",
              "      height: 32px;\n",
              "      padding: 0 0 0 0;\n",
              "      width: 32px;\n",
              "    }\n",
              "\n",
              "    .colab-df-convert:hover {\n",
              "      background-color: #E2EBFA;\n",
              "      box-shadow: 0px 1px 2px rgba(60, 64, 67, 0.3), 0px 1px 3px 1px rgba(60, 64, 67, 0.15);\n",
              "      fill: #174EA6;\n",
              "    }\n",
              "\n",
              "    [theme=dark] .colab-df-convert {\n",
              "      background-color: #3B4455;\n",
              "      fill: #D2E3FC;\n",
              "    }\n",
              "\n",
              "    [theme=dark] .colab-df-convert:hover {\n",
              "      background-color: #434B5C;\n",
              "      box-shadow: 0px 1px 3px 1px rgba(0, 0, 0, 0.15);\n",
              "      filter: drop-shadow(0px 1px 2px rgba(0, 0, 0, 0.3));\n",
              "      fill: #FFFFFF;\n",
              "    }\n",
              "  </style>\n",
              "\n",
              "      <script>\n",
              "        const buttonEl =\n",
              "          document.querySelector('#df-b07f3880-7ced-478b-a24b-299d9b3fa251 button.colab-df-convert');\n",
              "        buttonEl.style.display =\n",
              "          google.colab.kernel.accessAllowed ? 'block' : 'none';\n",
              "\n",
              "        async function convertToInteractive(key) {\n",
              "          const element = document.querySelector('#df-b07f3880-7ced-478b-a24b-299d9b3fa251');\n",
              "          const dataTable =\n",
              "            await google.colab.kernel.invokeFunction('convertToInteractive',\n",
              "                                                     [key], {});\n",
              "          if (!dataTable) return;\n",
              "\n",
              "          const docLinkHtml = 'Like what you see? Visit the ' +\n",
              "            '<a target=\"_blank\" href=https://colab.research.google.com/notebooks/data_table.ipynb>data table notebook</a>'\n",
              "            + ' to learn more about interactive tables.';\n",
              "          element.innerHTML = '';\n",
              "          dataTable['output_type'] = 'display_data';\n",
              "          await google.colab.output.renderOutput(dataTable, element);\n",
              "          const docLink = document.createElement('div');\n",
              "          docLink.innerHTML = docLinkHtml;\n",
              "          element.appendChild(docLink);\n",
              "        }\n",
              "      </script>\n",
              "    </div>\n",
              "  </div>\n",
              "  "
            ]
          },
          "metadata": {},
          "execution_count": 143
        }
      ]
    },
    {
      "cell_type": "code",
      "source": [
        "#알기 쉽게 열 이름 변경\n",
        "reg_df.columns=['Rk','선수','포지션','나이','소속팀','출전 경기 수','선발 출전 횟수','평균 출전 시간','야투 성공','야투 시도','야투 성공률','3점슛 성공','3점슛 시도',\n",
        "                '3점슛 성공률','2점슛 성공','2점슛 시도','2점슛 성공률','3점슛에 보정을 가한 효율성 수치','자유투 성공','자유투 시도','자유투 성공률','공격 리바운드',\n",
        "                '수비 리바운드','총 리바운드','어시스트','스틸','블록','실책','파울','득점']\n",
        "\n",
        "print(reg_df.info())"
      ],
      "metadata": {
        "colab": {
          "base_uri": "https://localhost:8080/"
        },
        "id": "mlt5lV4_veLN",
        "outputId": "d4aa55b1-69f4-4cce-d0ca-6e6acc75ed2e"
      },
      "execution_count": 148,
      "outputs": [
        {
          "output_type": "stream",
          "name": "stdout",
          "text": [
            "<class 'pandas.core.frame.DataFrame'>\n",
            "RangeIndex: 812 entries, 0 to 811\n",
            "Data columns (total 30 columns):\n",
            " #   Column              Non-Null Count  Dtype  \n",
            "---  ------              --------------  -----  \n",
            " 0   Rk                  812 non-null    int64  \n",
            " 1   선수                  812 non-null    object \n",
            " 2   포지션                 812 non-null    object \n",
            " 3   나이                  812 non-null    int64  \n",
            " 4   소속팀                 812 non-null    object \n",
            " 5   출전 경기 수             812 non-null    int64  \n",
            " 6   선발 출전 횟수            812 non-null    int64  \n",
            " 7   평균 출전 시간            812 non-null    float64\n",
            " 8   야투 성공               812 non-null    float64\n",
            " 9   야투 시도               812 non-null    float64\n",
            " 10  야투 성공률              812 non-null    float64\n",
            " 11  3점슛 성공              812 non-null    float64\n",
            " 12  3점슛 시도              812 non-null    float64\n",
            " 13  3점슛 성공률             812 non-null    float64\n",
            " 14  2점슛 성공              812 non-null    float64\n",
            " 15  2점슛 시도              812 non-null    float64\n",
            " 16  2점슛 성공률             812 non-null    float64\n",
            " 17  3점슛에 보정을 가한 효율성 수치  812 non-null    float64\n",
            " 18  자유투 성공              812 non-null    float64\n",
            " 19  자유투 시도              812 non-null    float64\n",
            " 20  자유투 성공률             812 non-null    float64\n",
            " 21  공격 리바운드             812 non-null    float64\n",
            " 22  수비 리바운드             812 non-null    float64\n",
            " 23  총 리바운드              812 non-null    float64\n",
            " 24  어시스트                812 non-null    float64\n",
            " 25  스틸                  812 non-null    float64\n",
            " 26  블록                  812 non-null    float64\n",
            " 27  실책                  812 non-null    float64\n",
            " 28  파울                  812 non-null    float64\n",
            " 29  득점                  812 non-null    float64\n",
            "dtypes: float64(23), int64(4), object(3)\n",
            "memory usage: 190.4+ KB\n",
            "None\n"
          ]
        }
      ]
    },
    {
      "cell_type": "markdown",
      "source": [
        "팀 순위 데이터셋 기본정보"
      ],
      "metadata": {
        "id": "DgMywCjmg02B"
      }
    },
    {
      "cell_type": "code",
      "source": [
        "#네이버와 구글에 공개된 팀 순위와 승패, 승률을 직접 csv로 옮겨 수집한 데이터\n",
        "east_rank_df=pd.read_csv('/content/EastTeamRank.csv', encoding='cp949') #동부 컨퍼런스 순위\n",
        "west_rank_df=pd.read_csv('/content/WestTeamRank.csv', encoding='cp949') #서부 컨퍼런스 순위\n",
        "\n",
        "print(east_rank_df.head(5))\n",
        "print(west_rank_df.head(5))"
      ],
      "metadata": {
        "colab": {
          "base_uri": "https://localhost:8080/"
        },
        "id": "dKWT29GAg9Rx",
        "outputId": "91bc8d77-fc4d-466a-fa9b-dcbf0f623445"
      },
      "execution_count": 199,
      "outputs": [
        {
          "output_type": "stream",
          "name": "stdout",
          "text": [
            "     팀   승   패  홈승  원정승     승률\n",
            "0  MIA  53  29  29   24  0.646\n",
            "1  BOS  51  31  28   23  0.622\n",
            "2  MIL  51  31  27   24  0.622\n",
            "3  PHI  51  31  24   27  0.622\n",
            "4  TOR  48  34  24   24  0.585\n",
            "     팀   승   패  홈승  원정승     승률\n",
            "0  PHO  64  18  32   32  0.780\n",
            "1  MEM  56  26  30   26  0.683\n",
            "2  GSW  53  29  31   22  0.646\n",
            "3  DAL  52  30  29   23  0.634\n",
            "4  UTA  49  33  29   20  0.598\n"
          ]
        }
      ]
    },
    {
      "cell_type": "code",
      "source": [
        "west_rank_df.shape\n",
        "east_rank_df.shape"
      ],
      "metadata": {
        "colab": {
          "base_uri": "https://localhost:8080/"
        },
        "id": "N7u1wK1smrO7",
        "outputId": "8343761f-9dc7-4109-8e7b-ebb657d627c9"
      },
      "execution_count": 200,
      "outputs": [
        {
          "output_type": "execute_result",
          "data": {
            "text/plain": [
              "(15, 6)"
            ]
          },
          "metadata": {},
          "execution_count": 200
        }
      ]
    },
    {
      "cell_type": "code",
      "source": [
        "west_rank_df.info()\n",
        "east_rank_df.info()"
      ],
      "metadata": {
        "colab": {
          "base_uri": "https://localhost:8080/"
        },
        "id": "0zUc4T3wmJlT",
        "outputId": "0156b5ad-0bfa-44b8-affe-d1a0458c8496"
      },
      "execution_count": 201,
      "outputs": [
        {
          "output_type": "stream",
          "name": "stdout",
          "text": [
            "<class 'pandas.core.frame.DataFrame'>\n",
            "RangeIndex: 15 entries, 0 to 14\n",
            "Data columns (total 6 columns):\n",
            " #   Column  Non-Null Count  Dtype  \n",
            "---  ------  --------------  -----  \n",
            " 0   팀       15 non-null     object \n",
            " 1   승       15 non-null     int64  \n",
            " 2   패       15 non-null     int64  \n",
            " 3   홈승      15 non-null     int64  \n",
            " 4   원정승     15 non-null     int64  \n",
            " 5   승률      15 non-null     float64\n",
            "dtypes: float64(1), int64(4), object(1)\n",
            "memory usage: 848.0+ bytes\n",
            "<class 'pandas.core.frame.DataFrame'>\n",
            "RangeIndex: 15 entries, 0 to 14\n",
            "Data columns (total 6 columns):\n",
            " #   Column  Non-Null Count  Dtype  \n",
            "---  ------  --------------  -----  \n",
            " 0   팀       15 non-null     object \n",
            " 1   승       15 non-null     int64  \n",
            " 2   패       15 non-null     int64  \n",
            " 3   홈승      15 non-null     int64  \n",
            " 4   원정승     15 non-null     int64  \n",
            " 5   승률      15 non-null     float64\n",
            "dtypes: float64(1), int64(4), object(1)\n",
            "memory usage: 848.0+ bytes\n"
          ]
        }
      ]
    },
    {
      "cell_type": "code",
      "source": [
        "print(west_rank_df.describe(),'\\n')\n",
        "print(east_rank_df.describe())"
      ],
      "metadata": {
        "colab": {
          "base_uri": "https://localhost:8080/"
        },
        "id": "uVU4FCZxmXGb",
        "outputId": "22093fc0-2913-42b0-9a9e-858a9f4520df"
      },
      "execution_count": 152,
      "outputs": [
        {
          "output_type": "stream",
          "name": "stdout",
          "text": [
            "               승          패         승률\n",
            "count  15.000000  15.000000  15.000000\n",
            "mean   40.933333  41.066667   0.499133\n",
            "std    12.936475  12.936475   0.157656\n",
            "min    20.000000  18.000000   0.244000\n",
            "25%    31.500000  31.500000   0.384000\n",
            "50%    42.000000  40.000000   0.512000\n",
            "75%    50.500000  50.500000   0.616000\n",
            "max    64.000000  62.000000   0.780000 \n",
            "\n",
            "               승          패         승률\n",
            "count  15.000000  15.000000  15.000000\n",
            "mean   41.066667  40.933333   0.500733\n",
            "std    10.477641  10.477641   0.127832\n",
            "min    22.000000  29.000000   0.268000\n",
            "25%    36.000000  32.500000   0.439000\n",
            "50%    44.000000  38.000000   0.537000\n",
            "75%    49.500000  46.000000   0.603500\n",
            "max    53.000000  60.000000   0.646000\n"
          ]
        }
      ]
    },
    {
      "cell_type": "markdown",
      "source": [
        "플레이오프 선수들의 스탯 데이터셋 기본정보"
      ],
      "metadata": {
        "id": "iuDa-k1Zm2ys"
      }
    },
    {
      "cell_type": "code",
      "source": [
        "#Kaggle 사이트를 통해 수집한 데이터\n",
        "po_df=pd.read_csv('/content/PlayoffsPlayerStats.csv') #플레이오프 선수들의 스탯 데이터\n",
        "\n",
        "print(po_df.head(5))"
      ],
      "metadata": {
        "colab": {
          "base_uri": "https://localhost:8080/"
        },
        "id": "ej_fZPpxm5kT",
        "outputId": "c89235b2-02d9-4139-d725-2676999ddfd4"
      },
      "execution_count": 153,
      "outputs": [
        {
          "output_type": "stream",
          "name": "stdout",
          "text": [
            "   Rk                    Player Pos  Age   Tm   G  GS    MP   FG  FGA  ...  \\\n",
            "0   1          Precious Achiuwa   C   22  TOR   6   1  27.8  4.2  8.7  ...   \n",
            "1   2              Steven Adams   C   28  MEM   7   5  16.3  1.3  3.0  ...   \n",
            "2   3               Bam Adebayo   C   24  MIA  18  18  34.1  5.8  9.7  ...   \n",
            "3   4  Nickeil Alexander-Walker  SG   23  UTA   1   0   5.0  2.0  2.0  ...   \n",
            "4   5             Grayson Allen  SG   26  MIL  12   5  25.4  3.1  6.8  ...   \n",
            "\n",
            "     FT%  ORB  DRB  TRB  AST  STL  BLK  TOV   PF   PTS  \n",
            "0  0.600  1.3  3.5  4.8  1.0  0.2  0.8  1.5  2.3  10.2  \n",
            "1  0.545  2.1  4.3  6.4  2.1  0.1  0.1  0.6  1.7   3.4  \n",
            "2  0.763  2.1  5.9  8.0  2.7  1.0  0.7  2.1  3.1  14.8  \n",
            "3  1.000  0.0  1.0  1.0  1.0  1.0  0.0  0.0  0.0   5.0  \n",
            "4  0.636  0.4  2.5  2.9  1.3  0.7  0.3  0.8  1.8   8.3  \n",
            "\n",
            "[5 rows x 30 columns]\n"
          ]
        }
      ]
    },
    {
      "cell_type": "code",
      "source": [
        "po_df.shape"
      ],
      "metadata": {
        "colab": {
          "base_uri": "https://localhost:8080/"
        },
        "id": "ZaFinSzUnt6D",
        "outputId": "d37f1bb4-e098-4c01-c081-ef34f3d0a13d"
      },
      "execution_count": 154,
      "outputs": [
        {
          "output_type": "execute_result",
          "data": {
            "text/plain": [
              "(217, 30)"
            ]
          },
          "metadata": {},
          "execution_count": 154
        }
      ]
    },
    {
      "cell_type": "code",
      "source": [
        "po_df.info()"
      ],
      "metadata": {
        "colab": {
          "base_uri": "https://localhost:8080/"
        },
        "id": "qPAzBB_Cnyor",
        "outputId": "3bb2ee22-d166-4ad1-ea2f-0ea96ba23c5d"
      },
      "execution_count": 155,
      "outputs": [
        {
          "output_type": "stream",
          "name": "stdout",
          "text": [
            "<class 'pandas.core.frame.DataFrame'>\n",
            "RangeIndex: 217 entries, 0 to 216\n",
            "Data columns (total 30 columns):\n",
            " #   Column  Non-Null Count  Dtype  \n",
            "---  ------  --------------  -----  \n",
            " 0   Rk      217 non-null    int64  \n",
            " 1   Player  217 non-null    object \n",
            " 2   Pos     217 non-null    object \n",
            " 3   Age     217 non-null    int64  \n",
            " 4   Tm      217 non-null    object \n",
            " 5   G       217 non-null    int64  \n",
            " 6   GS      217 non-null    int64  \n",
            " 7   MP      217 non-null    float64\n",
            " 8   FG      217 non-null    float64\n",
            " 9   FGA     217 non-null    float64\n",
            " 10  FG%     217 non-null    float64\n",
            " 11  3P      217 non-null    float64\n",
            " 12  3PA     217 non-null    float64\n",
            " 13  3P%     217 non-null    float64\n",
            " 14  2P      217 non-null    float64\n",
            " 15  2PA     217 non-null    float64\n",
            " 16  2P%     217 non-null    float64\n",
            " 17  eFG%    217 non-null    float64\n",
            " 18  FT      217 non-null    float64\n",
            " 19  FTA     217 non-null    float64\n",
            " 20  FT%     217 non-null    float64\n",
            " 21  ORB     217 non-null    float64\n",
            " 22  DRB     217 non-null    float64\n",
            " 23  TRB     217 non-null    float64\n",
            " 24  AST     217 non-null    float64\n",
            " 25  STL     217 non-null    float64\n",
            " 26  BLK     217 non-null    float64\n",
            " 27  TOV     217 non-null    float64\n",
            " 28  PF      217 non-null    float64\n",
            " 29  PTS     217 non-null    float64\n",
            "dtypes: float64(23), int64(4), object(3)\n",
            "memory usage: 51.0+ KB\n"
          ]
        }
      ]
    },
    {
      "cell_type": "code",
      "source": [
        "po_df.describe()"
      ],
      "metadata": {
        "colab": {
          "base_uri": "https://localhost:8080/",
          "height": 393
        },
        "id": "XfJcyHFTn05E",
        "outputId": "55e428de-8160-417c-eefb-594330adb12e"
      },
      "execution_count": 156,
      "outputs": [
        {
          "output_type": "execute_result",
          "data": {
            "text/plain": [
              "               Rk         Age           G          GS          MP          FG  \\\n",
              "count  217.000000  217.000000  217.000000  217.000000  217.000000  217.000000   \n",
              "mean   109.000000   26.589862    8.714286    4.009217   19.429032    3.045161   \n",
              "std     62.786676    4.238545    5.802412    5.944178   12.879892    2.699843   \n",
              "min      1.000000   19.000000    1.000000    0.000000    0.000000    0.000000   \n",
              "25%     55.000000   23.000000    5.000000    0.000000    7.600000    1.000000   \n",
              "50%    109.000000   26.000000    6.000000    0.000000   18.400000    2.300000   \n",
              "75%    163.000000   29.000000   12.000000    6.000000   31.200000    4.500000   \n",
              "max    217.000000   38.000000   24.000000   24.000000   44.000000   12.200000   \n",
              "\n",
              "              FGA         FG%          3P         3PA  ...         FT%  \\\n",
              "count  217.000000  217.000000  217.000000  217.000000  ...  217.000000   \n",
              "mean     6.737788    0.437516    0.934562    2.700461  ...    0.623249   \n",
              "std      5.865455    0.184581    0.969323    2.538454  ...    0.344243   \n",
              "min      0.000000    0.000000    0.000000    0.000000  ...    0.000000   \n",
              "25%      2.000000    0.370000    0.000000    0.500000  ...    0.500000   \n",
              "50%      4.700000    0.439000    0.700000    2.200000  ...    0.750000   \n",
              "75%     10.000000    0.500000    1.500000    4.400000  ...    0.857000   \n",
              "max     23.800000    1.000000    4.100000   10.400000  ...    1.000000   \n",
              "\n",
              "              ORB         DRB         TRB         AST         STL         BLK  \\\n",
              "count  217.000000  217.000000  217.000000  217.000000  217.000000  217.000000   \n",
              "mean     0.773733    2.626728    3.404147    1.828571    0.584793    0.361290   \n",
              "std      0.848965    2.203811    2.842360    2.007120    0.499629    0.453458   \n",
              "min      0.000000    0.000000    0.000000    0.000000    0.000000    0.000000   \n",
              "25%      0.200000    1.000000    1.200000    0.400000    0.200000    0.000000   \n",
              "50%      0.500000    2.000000    2.800000    1.000000    0.500000    0.200000   \n",
              "75%      1.000000    3.700000    4.800000    2.700000    0.900000    0.500000   \n",
              "max      5.500000   12.000000   14.300000    9.800000    2.100000    2.500000   \n",
              "\n",
              "              TOV          PF         PTS  \n",
              "count  217.000000  217.000000  217.000000  \n",
              "mean     1.085714    1.784332    8.457143  \n",
              "std      1.126790    1.175811    7.625418  \n",
              "min      0.000000    0.000000    0.000000  \n",
              "25%      0.300000    0.800000    2.100000  \n",
              "50%      0.800000    1.800000    6.000000  \n",
              "75%      1.500000    2.800000   12.600000  \n",
              "max      6.200000    4.700000   31.700000  \n",
              "\n",
              "[8 rows x 27 columns]"
            ],
            "text/html": [
              "\n",
              "  <div id=\"df-b22b85f6-c965-4bff-9460-050004755d78\">\n",
              "    <div class=\"colab-df-container\">\n",
              "      <div>\n",
              "<style scoped>\n",
              "    .dataframe tbody tr th:only-of-type {\n",
              "        vertical-align: middle;\n",
              "    }\n",
              "\n",
              "    .dataframe tbody tr th {\n",
              "        vertical-align: top;\n",
              "    }\n",
              "\n",
              "    .dataframe thead th {\n",
              "        text-align: right;\n",
              "    }\n",
              "</style>\n",
              "<table border=\"1\" class=\"dataframe\">\n",
              "  <thead>\n",
              "    <tr style=\"text-align: right;\">\n",
              "      <th></th>\n",
              "      <th>Rk</th>\n",
              "      <th>Age</th>\n",
              "      <th>G</th>\n",
              "      <th>GS</th>\n",
              "      <th>MP</th>\n",
              "      <th>FG</th>\n",
              "      <th>FGA</th>\n",
              "      <th>FG%</th>\n",
              "      <th>3P</th>\n",
              "      <th>3PA</th>\n",
              "      <th>...</th>\n",
              "      <th>FT%</th>\n",
              "      <th>ORB</th>\n",
              "      <th>DRB</th>\n",
              "      <th>TRB</th>\n",
              "      <th>AST</th>\n",
              "      <th>STL</th>\n",
              "      <th>BLK</th>\n",
              "      <th>TOV</th>\n",
              "      <th>PF</th>\n",
              "      <th>PTS</th>\n",
              "    </tr>\n",
              "  </thead>\n",
              "  <tbody>\n",
              "    <tr>\n",
              "      <th>count</th>\n",
              "      <td>217.000000</td>\n",
              "      <td>217.000000</td>\n",
              "      <td>217.000000</td>\n",
              "      <td>217.000000</td>\n",
              "      <td>217.000000</td>\n",
              "      <td>217.000000</td>\n",
              "      <td>217.000000</td>\n",
              "      <td>217.000000</td>\n",
              "      <td>217.000000</td>\n",
              "      <td>217.000000</td>\n",
              "      <td>...</td>\n",
              "      <td>217.000000</td>\n",
              "      <td>217.000000</td>\n",
              "      <td>217.000000</td>\n",
              "      <td>217.000000</td>\n",
              "      <td>217.000000</td>\n",
              "      <td>217.000000</td>\n",
              "      <td>217.000000</td>\n",
              "      <td>217.000000</td>\n",
              "      <td>217.000000</td>\n",
              "      <td>217.000000</td>\n",
              "    </tr>\n",
              "    <tr>\n",
              "      <th>mean</th>\n",
              "      <td>109.000000</td>\n",
              "      <td>26.589862</td>\n",
              "      <td>8.714286</td>\n",
              "      <td>4.009217</td>\n",
              "      <td>19.429032</td>\n",
              "      <td>3.045161</td>\n",
              "      <td>6.737788</td>\n",
              "      <td>0.437516</td>\n",
              "      <td>0.934562</td>\n",
              "      <td>2.700461</td>\n",
              "      <td>...</td>\n",
              "      <td>0.623249</td>\n",
              "      <td>0.773733</td>\n",
              "      <td>2.626728</td>\n",
              "      <td>3.404147</td>\n",
              "      <td>1.828571</td>\n",
              "      <td>0.584793</td>\n",
              "      <td>0.361290</td>\n",
              "      <td>1.085714</td>\n",
              "      <td>1.784332</td>\n",
              "      <td>8.457143</td>\n",
              "    </tr>\n",
              "    <tr>\n",
              "      <th>std</th>\n",
              "      <td>62.786676</td>\n",
              "      <td>4.238545</td>\n",
              "      <td>5.802412</td>\n",
              "      <td>5.944178</td>\n",
              "      <td>12.879892</td>\n",
              "      <td>2.699843</td>\n",
              "      <td>5.865455</td>\n",
              "      <td>0.184581</td>\n",
              "      <td>0.969323</td>\n",
              "      <td>2.538454</td>\n",
              "      <td>...</td>\n",
              "      <td>0.344243</td>\n",
              "      <td>0.848965</td>\n",
              "      <td>2.203811</td>\n",
              "      <td>2.842360</td>\n",
              "      <td>2.007120</td>\n",
              "      <td>0.499629</td>\n",
              "      <td>0.453458</td>\n",
              "      <td>1.126790</td>\n",
              "      <td>1.175811</td>\n",
              "      <td>7.625418</td>\n",
              "    </tr>\n",
              "    <tr>\n",
              "      <th>min</th>\n",
              "      <td>1.000000</td>\n",
              "      <td>19.000000</td>\n",
              "      <td>1.000000</td>\n",
              "      <td>0.000000</td>\n",
              "      <td>0.000000</td>\n",
              "      <td>0.000000</td>\n",
              "      <td>0.000000</td>\n",
              "      <td>0.000000</td>\n",
              "      <td>0.000000</td>\n",
              "      <td>0.000000</td>\n",
              "      <td>...</td>\n",
              "      <td>0.000000</td>\n",
              "      <td>0.000000</td>\n",
              "      <td>0.000000</td>\n",
              "      <td>0.000000</td>\n",
              "      <td>0.000000</td>\n",
              "      <td>0.000000</td>\n",
              "      <td>0.000000</td>\n",
              "      <td>0.000000</td>\n",
              "      <td>0.000000</td>\n",
              "      <td>0.000000</td>\n",
              "    </tr>\n",
              "    <tr>\n",
              "      <th>25%</th>\n",
              "      <td>55.000000</td>\n",
              "      <td>23.000000</td>\n",
              "      <td>5.000000</td>\n",
              "      <td>0.000000</td>\n",
              "      <td>7.600000</td>\n",
              "      <td>1.000000</td>\n",
              "      <td>2.000000</td>\n",
              "      <td>0.370000</td>\n",
              "      <td>0.000000</td>\n",
              "      <td>0.500000</td>\n",
              "      <td>...</td>\n",
              "      <td>0.500000</td>\n",
              "      <td>0.200000</td>\n",
              "      <td>1.000000</td>\n",
              "      <td>1.200000</td>\n",
              "      <td>0.400000</td>\n",
              "      <td>0.200000</td>\n",
              "      <td>0.000000</td>\n",
              "      <td>0.300000</td>\n",
              "      <td>0.800000</td>\n",
              "      <td>2.100000</td>\n",
              "    </tr>\n",
              "    <tr>\n",
              "      <th>50%</th>\n",
              "      <td>109.000000</td>\n",
              "      <td>26.000000</td>\n",
              "      <td>6.000000</td>\n",
              "      <td>0.000000</td>\n",
              "      <td>18.400000</td>\n",
              "      <td>2.300000</td>\n",
              "      <td>4.700000</td>\n",
              "      <td>0.439000</td>\n",
              "      <td>0.700000</td>\n",
              "      <td>2.200000</td>\n",
              "      <td>...</td>\n",
              "      <td>0.750000</td>\n",
              "      <td>0.500000</td>\n",
              "      <td>2.000000</td>\n",
              "      <td>2.800000</td>\n",
              "      <td>1.000000</td>\n",
              "      <td>0.500000</td>\n",
              "      <td>0.200000</td>\n",
              "      <td>0.800000</td>\n",
              "      <td>1.800000</td>\n",
              "      <td>6.000000</td>\n",
              "    </tr>\n",
              "    <tr>\n",
              "      <th>75%</th>\n",
              "      <td>163.000000</td>\n",
              "      <td>29.000000</td>\n",
              "      <td>12.000000</td>\n",
              "      <td>6.000000</td>\n",
              "      <td>31.200000</td>\n",
              "      <td>4.500000</td>\n",
              "      <td>10.000000</td>\n",
              "      <td>0.500000</td>\n",
              "      <td>1.500000</td>\n",
              "      <td>4.400000</td>\n",
              "      <td>...</td>\n",
              "      <td>0.857000</td>\n",
              "      <td>1.000000</td>\n",
              "      <td>3.700000</td>\n",
              "      <td>4.800000</td>\n",
              "      <td>2.700000</td>\n",
              "      <td>0.900000</td>\n",
              "      <td>0.500000</td>\n",
              "      <td>1.500000</td>\n",
              "      <td>2.800000</td>\n",
              "      <td>12.600000</td>\n",
              "    </tr>\n",
              "    <tr>\n",
              "      <th>max</th>\n",
              "      <td>217.000000</td>\n",
              "      <td>38.000000</td>\n",
              "      <td>24.000000</td>\n",
              "      <td>24.000000</td>\n",
              "      <td>44.000000</td>\n",
              "      <td>12.200000</td>\n",
              "      <td>23.800000</td>\n",
              "      <td>1.000000</td>\n",
              "      <td>4.100000</td>\n",
              "      <td>10.400000</td>\n",
              "      <td>...</td>\n",
              "      <td>1.000000</td>\n",
              "      <td>5.500000</td>\n",
              "      <td>12.000000</td>\n",
              "      <td>14.300000</td>\n",
              "      <td>9.800000</td>\n",
              "      <td>2.100000</td>\n",
              "      <td>2.500000</td>\n",
              "      <td>6.200000</td>\n",
              "      <td>4.700000</td>\n",
              "      <td>31.700000</td>\n",
              "    </tr>\n",
              "  </tbody>\n",
              "</table>\n",
              "<p>8 rows × 27 columns</p>\n",
              "</div>\n",
              "      <button class=\"colab-df-convert\" onclick=\"convertToInteractive('df-b22b85f6-c965-4bff-9460-050004755d78')\"\n",
              "              title=\"Convert this dataframe to an interactive table.\"\n",
              "              style=\"display:none;\">\n",
              "        \n",
              "  <svg xmlns=\"http://www.w3.org/2000/svg\" height=\"24px\"viewBox=\"0 0 24 24\"\n",
              "       width=\"24px\">\n",
              "    <path d=\"M0 0h24v24H0V0z\" fill=\"none\"/>\n",
              "    <path d=\"M18.56 5.44l.94 2.06.94-2.06 2.06-.94-2.06-.94-.94-2.06-.94 2.06-2.06.94zm-11 1L8.5 8.5l.94-2.06 2.06-.94-2.06-.94L8.5 2.5l-.94 2.06-2.06.94zm10 10l.94 2.06.94-2.06 2.06-.94-2.06-.94-.94-2.06-.94 2.06-2.06.94z\"/><path d=\"M17.41 7.96l-1.37-1.37c-.4-.4-.92-.59-1.43-.59-.52 0-1.04.2-1.43.59L10.3 9.45l-7.72 7.72c-.78.78-.78 2.05 0 2.83L4 21.41c.39.39.9.59 1.41.59.51 0 1.02-.2 1.41-.59l7.78-7.78 2.81-2.81c.8-.78.8-2.07 0-2.86zM5.41 20L4 18.59l7.72-7.72 1.47 1.35L5.41 20z\"/>\n",
              "  </svg>\n",
              "      </button>\n",
              "      \n",
              "  <style>\n",
              "    .colab-df-container {\n",
              "      display:flex;\n",
              "      flex-wrap:wrap;\n",
              "      gap: 12px;\n",
              "    }\n",
              "\n",
              "    .colab-df-convert {\n",
              "      background-color: #E8F0FE;\n",
              "      border: none;\n",
              "      border-radius: 50%;\n",
              "      cursor: pointer;\n",
              "      display: none;\n",
              "      fill: #1967D2;\n",
              "      height: 32px;\n",
              "      padding: 0 0 0 0;\n",
              "      width: 32px;\n",
              "    }\n",
              "\n",
              "    .colab-df-convert:hover {\n",
              "      background-color: #E2EBFA;\n",
              "      box-shadow: 0px 1px 2px rgba(60, 64, 67, 0.3), 0px 1px 3px 1px rgba(60, 64, 67, 0.15);\n",
              "      fill: #174EA6;\n",
              "    }\n",
              "\n",
              "    [theme=dark] .colab-df-convert {\n",
              "      background-color: #3B4455;\n",
              "      fill: #D2E3FC;\n",
              "    }\n",
              "\n",
              "    [theme=dark] .colab-df-convert:hover {\n",
              "      background-color: #434B5C;\n",
              "      box-shadow: 0px 1px 3px 1px rgba(0, 0, 0, 0.15);\n",
              "      filter: drop-shadow(0px 1px 2px rgba(0, 0, 0, 0.3));\n",
              "      fill: #FFFFFF;\n",
              "    }\n",
              "  </style>\n",
              "\n",
              "      <script>\n",
              "        const buttonEl =\n",
              "          document.querySelector('#df-b22b85f6-c965-4bff-9460-050004755d78 button.colab-df-convert');\n",
              "        buttonEl.style.display =\n",
              "          google.colab.kernel.accessAllowed ? 'block' : 'none';\n",
              "\n",
              "        async function convertToInteractive(key) {\n",
              "          const element = document.querySelector('#df-b22b85f6-c965-4bff-9460-050004755d78');\n",
              "          const dataTable =\n",
              "            await google.colab.kernel.invokeFunction('convertToInteractive',\n",
              "                                                     [key], {});\n",
              "          if (!dataTable) return;\n",
              "\n",
              "          const docLinkHtml = 'Like what you see? Visit the ' +\n",
              "            '<a target=\"_blank\" href=https://colab.research.google.com/notebooks/data_table.ipynb>data table notebook</a>'\n",
              "            + ' to learn more about interactive tables.';\n",
              "          element.innerHTML = '';\n",
              "          dataTable['output_type'] = 'display_data';\n",
              "          await google.colab.output.renderOutput(dataTable, element);\n",
              "          const docLink = document.createElement('div');\n",
              "          docLink.innerHTML = docLinkHtml;\n",
              "          element.appendChild(docLink);\n",
              "        }\n",
              "      </script>\n",
              "    </div>\n",
              "  </div>\n",
              "  "
            ]
          },
          "metadata": {},
          "execution_count": 156
        }
      ]
    },
    {
      "cell_type": "code",
      "source": [
        "#알기 쉽게 열 이름 변경\n",
        "po_df.columns=['Rk','선수','포지션','나이','소속팀','출전 경기 수','선발 출전 횟수','평균 출전 시간','야투 성공','야투 시도','야투 성공률','3점슛 성공','3점슛 시도',\n",
        "                '3점슛 성공률','2점슛 성공','2점슛 시도','2점슛 성공률','3점슛에 보정을 가한 효율성 수치','자유투 성공','자유투 시도','자유투 성공률','공격 리바운드',\n",
        "                '수비 리바운드','총 리바운드','어시스트','스틸','블록','실책','파울','득점']\n",
        "\n",
        "print(po_df.info())"
      ],
      "metadata": {
        "colab": {
          "base_uri": "https://localhost:8080/"
        },
        "id": "8kWEsJ05n8cs",
        "outputId": "38eefae7-98b4-4c52-a78c-ca5d049668fa"
      },
      "execution_count": 158,
      "outputs": [
        {
          "output_type": "stream",
          "name": "stdout",
          "text": [
            "<class 'pandas.core.frame.DataFrame'>\n",
            "RangeIndex: 217 entries, 0 to 216\n",
            "Data columns (total 30 columns):\n",
            " #   Column              Non-Null Count  Dtype  \n",
            "---  ------              --------------  -----  \n",
            " 0   Rk                  217 non-null    int64  \n",
            " 1   선수                  217 non-null    object \n",
            " 2   포지션                 217 non-null    object \n",
            " 3   나이                  217 non-null    int64  \n",
            " 4   소속팀                 217 non-null    object \n",
            " 5   출전 경기 수             217 non-null    int64  \n",
            " 6   선발 출전 횟수            217 non-null    int64  \n",
            " 7   평균 출전 시간            217 non-null    float64\n",
            " 8   야투 성공               217 non-null    float64\n",
            " 9   야투 시도               217 non-null    float64\n",
            " 10  야투 성공률              217 non-null    float64\n",
            " 11  3점슛 성공              217 non-null    float64\n",
            " 12  3점슛 시도              217 non-null    float64\n",
            " 13  3점슛 성공률             217 non-null    float64\n",
            " 14  2점슛 성공              217 non-null    float64\n",
            " 15  2점슛 시도              217 non-null    float64\n",
            " 16  2점슛 성공률             217 non-null    float64\n",
            " 17  3점슛에 보정을 가한 효율성 수치  217 non-null    float64\n",
            " 18  자유투 성공              217 non-null    float64\n",
            " 19  자유투 시도              217 non-null    float64\n",
            " 20  자유투 성공률             217 non-null    float64\n",
            " 21  공격 리바운드             217 non-null    float64\n",
            " 22  수비 리바운드             217 non-null    float64\n",
            " 23  총 리바운드              217 non-null    float64\n",
            " 24  어시스트                217 non-null    float64\n",
            " 25  스틸                  217 non-null    float64\n",
            " 26  블록                  217 non-null    float64\n",
            " 27  실책                  217 non-null    float64\n",
            " 28  파울                  217 non-null    float64\n",
            " 29  득점                  217 non-null    float64\n",
            "dtypes: float64(23), int64(4), object(3)\n",
            "memory usage: 51.0+ KB\n",
            "None\n"
          ]
        }
      ]
    },
    {
      "cell_type": "markdown",
      "source": [
        "2. 데이터 전처리 및 변환"
      ],
      "metadata": {
        "id": "qCkx-V0uzY1F"
      }
    },
    {
      "cell_type": "code",
      "source": [
        "#데이터프레임 원본 보존을 위한 복사\n",
        "reg_df1=reg_df[:] #reg_df1 -> 데이터 복사본\n",
        "po_df1=po_df[:] #po_df1 -> 데이터 복사본\n",
        "\n",
        "print(reg_df1.info())\n",
        "print(po_df1.info())"
      ],
      "metadata": {
        "colab": {
          "base_uri": "https://localhost:8080/"
        },
        "id": "XsxihgUmNNQu",
        "outputId": "efb77bff-564c-4c76-e614-66148dcd2ac3"
      },
      "execution_count": 159,
      "outputs": [
        {
          "output_type": "stream",
          "name": "stdout",
          "text": [
            "<class 'pandas.core.frame.DataFrame'>\n",
            "RangeIndex: 812 entries, 0 to 811\n",
            "Data columns (total 30 columns):\n",
            " #   Column              Non-Null Count  Dtype  \n",
            "---  ------              --------------  -----  \n",
            " 0   Rk                  812 non-null    int64  \n",
            " 1   선수                  812 non-null    object \n",
            " 2   포지션                 812 non-null    object \n",
            " 3   나이                  812 non-null    int64  \n",
            " 4   소속팀                 812 non-null    object \n",
            " 5   출전 경기 수             812 non-null    int64  \n",
            " 6   선발 출전 횟수            812 non-null    int64  \n",
            " 7   평균 출전 시간            812 non-null    float64\n",
            " 8   야투 성공               812 non-null    float64\n",
            " 9   야투 시도               812 non-null    float64\n",
            " 10  야투 성공률              812 non-null    float64\n",
            " 11  3점슛 성공              812 non-null    float64\n",
            " 12  3점슛 시도              812 non-null    float64\n",
            " 13  3점슛 성공률             812 non-null    float64\n",
            " 14  2점슛 성공              812 non-null    float64\n",
            " 15  2점슛 시도              812 non-null    float64\n",
            " 16  2점슛 성공률             812 non-null    float64\n",
            " 17  3점슛에 보정을 가한 효율성 수치  812 non-null    float64\n",
            " 18  자유투 성공              812 non-null    float64\n",
            " 19  자유투 시도              812 non-null    float64\n",
            " 20  자유투 성공률             812 non-null    float64\n",
            " 21  공격 리바운드             812 non-null    float64\n",
            " 22  수비 리바운드             812 non-null    float64\n",
            " 23  총 리바운드              812 non-null    float64\n",
            " 24  어시스트                812 non-null    float64\n",
            " 25  스틸                  812 non-null    float64\n",
            " 26  블록                  812 non-null    float64\n",
            " 27  실책                  812 non-null    float64\n",
            " 28  파울                  812 non-null    float64\n",
            " 29  득점                  812 non-null    float64\n",
            "dtypes: float64(23), int64(4), object(3)\n",
            "memory usage: 190.4+ KB\n",
            "None\n",
            "<class 'pandas.core.frame.DataFrame'>\n",
            "RangeIndex: 217 entries, 0 to 216\n",
            "Data columns (total 30 columns):\n",
            " #   Column              Non-Null Count  Dtype  \n",
            "---  ------              --------------  -----  \n",
            " 0   Rk                  217 non-null    int64  \n",
            " 1   선수                  217 non-null    object \n",
            " 2   포지션                 217 non-null    object \n",
            " 3   나이                  217 non-null    int64  \n",
            " 4   소속팀                 217 non-null    object \n",
            " 5   출전 경기 수             217 non-null    int64  \n",
            " 6   선발 출전 횟수            217 non-null    int64  \n",
            " 7   평균 출전 시간            217 non-null    float64\n",
            " 8   야투 성공               217 non-null    float64\n",
            " 9   야투 시도               217 non-null    float64\n",
            " 10  야투 성공률              217 non-null    float64\n",
            " 11  3점슛 성공              217 non-null    float64\n",
            " 12  3점슛 시도              217 non-null    float64\n",
            " 13  3점슛 성공률             217 non-null    float64\n",
            " 14  2점슛 성공              217 non-null    float64\n",
            " 15  2점슛 시도              217 non-null    float64\n",
            " 16  2점슛 성공률             217 non-null    float64\n",
            " 17  3점슛에 보정을 가한 효율성 수치  217 non-null    float64\n",
            " 18  자유투 성공              217 non-null    float64\n",
            " 19  자유투 시도              217 non-null    float64\n",
            " 20  자유투 성공률             217 non-null    float64\n",
            " 21  공격 리바운드             217 non-null    float64\n",
            " 22  수비 리바운드             217 non-null    float64\n",
            " 23  총 리바운드              217 non-null    float64\n",
            " 24  어시스트                217 non-null    float64\n",
            " 25  스틸                  217 non-null    float64\n",
            " 26  블록                  217 non-null    float64\n",
            " 27  실책                  217 non-null    float64\n",
            " 28  파울                  217 non-null    float64\n",
            " 29  득점                  217 non-null    float64\n",
            "dtypes: float64(23), int64(4), object(3)\n",
            "memory usage: 51.0+ KB\n",
            "None\n"
          ]
        }
      ]
    },
    {
      "cell_type": "code",
      "source": [
        "#선수 중복 제거(마지막 데이터만 남긴다.) - 플레이오프 기간에는 이적이 없어 플레이오프 데이터에는 선수 중복이 없다\n",
        "reg_df=reg_df.drop_duplicates(['선수'], keep='last')\n",
        "\n",
        "print(reg_df.shape)"
      ],
      "metadata": {
        "colab": {
          "base_uri": "https://localhost:8080/"
        },
        "id": "gDS6Rp-qU3gw",
        "outputId": "1d3e3225-a88c-475d-df68-33c466a3c2e5"
      },
      "execution_count": 160,
      "outputs": [
        {
          "output_type": "stream",
          "name": "stdout",
          "text": [
            "(605, 30)\n"
          ]
        }
      ]
    },
    {
      "cell_type": "code",
      "source": [
        "#평균 출전 시간이 10분 이하인 선수는 중요한 선수가 아니니 해당 행 삭제\n",
        "reg_df=reg_df[reg_df['평균 출전 시간']>10]\n",
        "po_df=po_df[po_df['평균 출전 시간']>10]\n",
        "\n",
        "print(reg_df.shape)\n",
        "print(po_df.shape)"
      ],
      "metadata": {
        "colab": {
          "base_uri": "https://localhost:8080/"
        },
        "id": "KUtMBA-Nozad",
        "outputId": "7ed8e85a-1b95-4606-a48c-129bc1d03317"
      },
      "execution_count": 161,
      "outputs": [
        {
          "output_type": "stream",
          "name": "stdout",
          "text": [
            "(465, 30)\n",
            "(150, 30)\n"
          ]
        }
      ]
    },
    {
      "cell_type": "code",
      "source": [
        "#플레이오프는 출전 경기가 많지 않아 삭제 하지 않고 남겨둔다\n",
        "#정규 시즌 출전 경기 수가 10경기 이하인 선수는 팀에서 한 활약이 적어 해당 행 삭제\n",
        "reg_df=reg_df[reg_df['출전 경기 수']>10]\n",
        "\n",
        "print(reg_df.shape)"
      ],
      "metadata": {
        "colab": {
          "base_uri": "https://localhost:8080/"
        },
        "id": "AW4Cf59EJ04l",
        "outputId": "890402d9-c35c-4108-9efd-321df599dc4c"
      },
      "execution_count": 162,
      "outputs": [
        {
          "output_type": "stream",
          "name": "stdout",
          "text": [
            "(416, 30)\n"
          ]
        }
      ]
    },
    {
      "cell_type": "code",
      "source": [
        "#선수 이름을 인덱스로 설정\n",
        "reg_df.set_index('선수', inplace=True)\n",
        "print(reg_df.head(1))\n",
        "\n",
        "po_df.set_index('선수', inplace=True)\n",
        "print(po_df.head(1))"
      ],
      "metadata": {
        "colab": {
          "base_uri": "https://localhost:8080/"
        },
        "id": "GnqagIGBZQ_R",
        "outputId": "153546fb-1082-43bb-cb80-3fa0f5009382"
      },
      "execution_count": 163,
      "outputs": [
        {
          "output_type": "stream",
          "name": "stdout",
          "text": [
            "                  Rk 포지션  나이  소속팀  출전 경기 수  선발 출전 횟수  평균 출전 시간  야투 성공  야투 시도  \\\n",
            "선수                                                                             \n",
            "Precious Achiuwa   1   C  22  TOR       73        28      23.6    3.6    8.3   \n",
            "\n",
            "                  야투 성공률  ...  자유투 성공률  공격 리바운드  수비 리바운드  총 리바운드  어시스트   스틸  \\\n",
            "선수                        ...                                                 \n",
            "Precious Achiuwa   0.439  ...    0.595      2.0      4.5     6.5   1.1  0.5   \n",
            "\n",
            "                   블록   실책   파울   득점  \n",
            "선수                                    \n",
            "Precious Achiuwa  0.6  1.2  2.1  9.1  \n",
            "\n",
            "[1 rows x 29 columns]\n",
            "                  Rk 포지션  나이  소속팀  출전 경기 수  선발 출전 횟수  평균 출전 시간  야투 성공  야투 시도  \\\n",
            "선수                                                                             \n",
            "Precious Achiuwa   1   C  22  TOR        6         1      27.8    4.2    8.7   \n",
            "\n",
            "                  야투 성공률  ...  자유투 성공률  공격 리바운드  수비 리바운드  총 리바운드  어시스트   스틸  \\\n",
            "선수                        ...                                                 \n",
            "Precious Achiuwa   0.481  ...      0.6      1.3      3.5     4.8   1.0  0.2   \n",
            "\n",
            "                   블록   실책   파울    득점  \n",
            "선수                                     \n",
            "Precious Achiuwa  0.8  1.5  2.3  10.2  \n",
            "\n",
            "[1 rows x 29 columns]\n"
          ]
        }
      ]
    },
    {
      "cell_type": "code",
      "source": [
        "#Rk 열은 필요한 열이 아니니 삭제\n",
        "reg_df.drop('Rk',axis=1,inplace=True)\n",
        "po_df.drop('Rk',axis=1,inplace=True)\n",
        "\n",
        "print(reg_df.info())\n",
        "print(po_df.info())"
      ],
      "metadata": {
        "colab": {
          "base_uri": "https://localhost:8080/"
        },
        "id": "IN-DxRkziIwe",
        "outputId": "2e09b0c9-4946-485c-e697-dd091b875b46"
      },
      "execution_count": 164,
      "outputs": [
        {
          "output_type": "stream",
          "name": "stdout",
          "text": [
            "<class 'pandas.core.frame.DataFrame'>\n",
            "Index: 416 entries, Precious Achiuwa to Ivica Zubac\n",
            "Data columns (total 28 columns):\n",
            " #   Column              Non-Null Count  Dtype  \n",
            "---  ------              --------------  -----  \n",
            " 0   포지션                 416 non-null    object \n",
            " 1   나이                  416 non-null    int64  \n",
            " 2   소속팀                 416 non-null    object \n",
            " 3   출전 경기 수             416 non-null    int64  \n",
            " 4   선발 출전 횟수            416 non-null    int64  \n",
            " 5   평균 출전 시간            416 non-null    float64\n",
            " 6   야투 성공               416 non-null    float64\n",
            " 7   야투 시도               416 non-null    float64\n",
            " 8   야투 성공률              416 non-null    float64\n",
            " 9   3점슛 성공              416 non-null    float64\n",
            " 10  3점슛 시도              416 non-null    float64\n",
            " 11  3점슛 성공률             416 non-null    float64\n",
            " 12  2점슛 성공              416 non-null    float64\n",
            " 13  2점슛 시도              416 non-null    float64\n",
            " 14  2점슛 성공률             416 non-null    float64\n",
            " 15  3점슛에 보정을 가한 효율성 수치  416 non-null    float64\n",
            " 16  자유투 성공              416 non-null    float64\n",
            " 17  자유투 시도              416 non-null    float64\n",
            " 18  자유투 성공률             416 non-null    float64\n",
            " 19  공격 리바운드             416 non-null    float64\n",
            " 20  수비 리바운드             416 non-null    float64\n",
            " 21  총 리바운드              416 non-null    float64\n",
            " 22  어시스트                416 non-null    float64\n",
            " 23  스틸                  416 non-null    float64\n",
            " 24  블록                  416 non-null    float64\n",
            " 25  실책                  416 non-null    float64\n",
            " 26  파울                  416 non-null    float64\n",
            " 27  득점                  416 non-null    float64\n",
            "dtypes: float64(23), int64(3), object(2)\n",
            "memory usage: 94.2+ KB\n",
            "None\n",
            "<class 'pandas.core.frame.DataFrame'>\n",
            "Index: 150 entries, Precious Achiuwa to Trae Young\n",
            "Data columns (total 28 columns):\n",
            " #   Column              Non-Null Count  Dtype  \n",
            "---  ------              --------------  -----  \n",
            " 0   포지션                 150 non-null    object \n",
            " 1   나이                  150 non-null    int64  \n",
            " 2   소속팀                 150 non-null    object \n",
            " 3   출전 경기 수             150 non-null    int64  \n",
            " 4   선발 출전 횟수            150 non-null    int64  \n",
            " 5   평균 출전 시간            150 non-null    float64\n",
            " 6   야투 성공               150 non-null    float64\n",
            " 7   야투 시도               150 non-null    float64\n",
            " 8   야투 성공률              150 non-null    float64\n",
            " 9   3점슛 성공              150 non-null    float64\n",
            " 10  3점슛 시도              150 non-null    float64\n",
            " 11  3점슛 성공률             150 non-null    float64\n",
            " 12  2점슛 성공              150 non-null    float64\n",
            " 13  2점슛 시도              150 non-null    float64\n",
            " 14  2점슛 성공률             150 non-null    float64\n",
            " 15  3점슛에 보정을 가한 효율성 수치  150 non-null    float64\n",
            " 16  자유투 성공              150 non-null    float64\n",
            " 17  자유투 시도              150 non-null    float64\n",
            " 18  자유투 성공률             150 non-null    float64\n",
            " 19  공격 리바운드             150 non-null    float64\n",
            " 20  수비 리바운드             150 non-null    float64\n",
            " 21  총 리바운드              150 non-null    float64\n",
            " 22  어시스트                150 non-null    float64\n",
            " 23  스틸                  150 non-null    float64\n",
            " 24  블록                  150 non-null    float64\n",
            " 25  실책                  150 non-null    float64\n",
            " 26  파울                  150 non-null    float64\n",
            " 27  득점                  150 non-null    float64\n",
            "dtypes: float64(23), int64(3), object(2)\n",
            "memory usage: 34.0+ KB\n",
            "None\n"
          ]
        }
      ]
    },
    {
      "cell_type": "code",
      "source": [
        "#선수 기여도를 보여주는 열 추가(선수 기여도 공식은 제가 생각한 공식으로 공식적인 공식이 아닙니다.)\n",
        "#선수 기여도 = (득점+((어시스트+총 리바운드)*2)+스틸+블록-((실책+파울)*2))/평균 출전 시간\n",
        "reg_df['선수 기여도']=(reg_df['득점']+((reg_df['어시스트']+reg_df['총 리바운드'])*2)+reg_df['스틸']+reg_df['블록']-((reg_df['실책']+reg_df['파울'])*2))/reg_df['평균 출전 시간']\n",
        "po_df['선수 기여도']=(po_df['득점']+((po_df['어시스트']+po_df['총 리바운드'])*2)+po_df['스틸']+po_df['블록']-((po_df['실책']+po_df['파울'])*2))/po_df['평균 출전 시간']\n",
        "\n",
        "print(reg_df['선수 기여도'])\n",
        "print(po_df['선수 기여도'])"
      ],
      "metadata": {
        "colab": {
          "base_uri": "https://localhost:8080/"
        },
        "id": "T5WuOTyHBqo2",
        "outputId": "029aae26-ae1d-46b2-fd9c-fa39b46d7800"
      },
      "execution_count": 165,
      "outputs": [
        {
          "output_type": "stream",
          "name": "stdout",
          "text": [
            "선수\n",
            "Precious Achiuwa     0.796610\n",
            "Steven Adams         1.079848\n",
            "Bam Adebayo          1.131902\n",
            "Santi Aldama         0.725664\n",
            "LaMarcus Aldridge    0.977578\n",
            "                       ...   \n",
            "Thaddeus Young       0.825137\n",
            "Trae Young           1.283668\n",
            "Omer Yurtseven       1.111111\n",
            "Cody Zeller          0.832061\n",
            "Ivica Zubac          0.967213\n",
            "Name: 선수 기여도, Length: 416, dtype: float64\n",
            "선수\n",
            "Precious Achiuwa    0.546763\n",
            "Steven Adams        0.981595\n",
            "Bam Adebayo         0.806452\n",
            "Grayson Allen       0.492126\n",
            "Jose Alvarado       0.338462\n",
            "                      ...   \n",
            "Robert Williams     0.853448\n",
            "Ziaire Williams     0.500000\n",
            "Delon Wright        0.788321\n",
            "Thaddeus Young      0.696552\n",
            "Trae Young          0.548387\n",
            "Name: 선수 기여도, Length: 150, dtype: float64\n"
          ]
        }
      ]
    },
    {
      "cell_type": "code",
      "source": [
        "sal_df=pd.read_csv('/content/player_info.csv') #선수 연봉만을 획득하기 위한 데이터셋(Kaggle을 통하여 수집) - 단위:달러\n",
        "\n",
        "print(sal_df.head(5),'\\n')\n",
        "\n",
        "#정규시즌 플레이어 스탯 데이터에 연봉 추가\n",
        "for i in sal_df.index:\n",
        "  for j in reg_df.index:\n",
        "    if j == sal_df.loc[i,'Name']:\n",
        "      reg_df.loc[j,'연봉']=sal_df.loc[i,'Salary']\n",
        "  for k in po_df.index:\n",
        "    if k == sal_df.loc[i,'Name']:\n",
        "      po_df.loc[k,'연봉']=sal_df.loc[i,'Salary']\n",
        "\n",
        "print(reg_df['연봉'],'\\n')\n",
        "print(po_df['연봉'])"
      ],
      "metadata": {
        "colab": {
          "base_uri": "https://localhost:8080/"
        },
        "id": "37IHTPuaO3s3",
        "outputId": "adc845cd-927b-4fb2-ddfe-5c7b4b118d61"
      },
      "execution_count": 166,
      "outputs": [
        {
          "output_type": "stream",
          "name": "stdout",
          "text": [
            "             Name Position            Team  Age  Height  Height_i  Weight  \\\n",
            "0  Juhann Begarin       SG  Boston Celtics   19   6' 5\"      6.50     185   \n",
            "1    Jaylen Brown       SG  Boston Celtics   24   6' 6\"      6.60     223   \n",
            "2       Kris Dunn       PG  Boston Celtics   27   6' 3\"      6.30     205   \n",
            "3  Carsen Edwards       PG  Boston Celtics   23  5' 11\"      5.11     200   \n",
            "4      Tacko Fall        C  Boston Celtics   25   7' 5\"      7.50     311   \n",
            "\n",
            "      College      Salary  Points  Rebounds  Assists  \n",
            "0         NaN         NaN     NaN       NaN      NaN  \n",
            "1  California  26758928.0    24.7       6.0      3.4  \n",
            "2  Providence   5005350.0     1.3       1.5      0.5  \n",
            "3      Purdue   1782621.0     4.0       0.8      0.5  \n",
            "4         UCF         NaN     2.5       2.7      0.2   \n",
            "\n",
            "선수\n",
            "Precious Achiuwa      2711280.0\n",
            "Steven Adams         17073171.0\n",
            "Bam Adebayo          28103500.0\n",
            "Santi Aldama          1994520.0\n",
            "LaMarcus Aldridge           NaN\n",
            "                        ...    \n",
            "Thaddeus Young       14190000.0\n",
            "Trae Young            8326471.0\n",
            "Omer Yurtseven        1489065.0\n",
            "Cody Zeller           1669178.0\n",
            "Ivica Zubac           7518518.0\n",
            "Name: 연봉, Length: 416, dtype: float64 \n",
            "\n",
            "선수\n",
            "Precious Achiuwa     2711280.0\n",
            "Steven Adams        17073171.0\n",
            "Bam Adebayo         28103500.0\n",
            "Grayson Allen        4054695.0\n",
            "Jose Alvarado              NaN\n",
            "                       ...    \n",
            "Robert Williams            NaN\n",
            "Ziaire Williams      4373040.0\n",
            "Delon Wright         8526316.0\n",
            "Thaddeus Young      14190000.0\n",
            "Trae Young           8326471.0\n",
            "Name: 연봉, Length: 150, dtype: float64\n"
          ]
        }
      ]
    },
    {
      "cell_type": "code",
      "source": [
        "print(reg_df.info())\n",
        "print(po_df.info())"
      ],
      "metadata": {
        "colab": {
          "base_uri": "https://localhost:8080/"
        },
        "id": "Vv08VWugiBtG",
        "outputId": "20aa5440-4ea1-4ede-fb17-49f48c981498"
      },
      "execution_count": 167,
      "outputs": [
        {
          "output_type": "stream",
          "name": "stdout",
          "text": [
            "<class 'pandas.core.frame.DataFrame'>\n",
            "Index: 416 entries, Precious Achiuwa to Ivica Zubac\n",
            "Data columns (total 30 columns):\n",
            " #   Column              Non-Null Count  Dtype  \n",
            "---  ------              --------------  -----  \n",
            " 0   포지션                 416 non-null    object \n",
            " 1   나이                  416 non-null    int64  \n",
            " 2   소속팀                 416 non-null    object \n",
            " 3   출전 경기 수             416 non-null    int64  \n",
            " 4   선발 출전 횟수            416 non-null    int64  \n",
            " 5   평균 출전 시간            416 non-null    float64\n",
            " 6   야투 성공               416 non-null    float64\n",
            " 7   야투 시도               416 non-null    float64\n",
            " 8   야투 성공률              416 non-null    float64\n",
            " 9   3점슛 성공              416 non-null    float64\n",
            " 10  3점슛 시도              416 non-null    float64\n",
            " 11  3점슛 성공률             416 non-null    float64\n",
            " 12  2점슛 성공              416 non-null    float64\n",
            " 13  2점슛 시도              416 non-null    float64\n",
            " 14  2점슛 성공률             416 non-null    float64\n",
            " 15  3점슛에 보정을 가한 효율성 수치  416 non-null    float64\n",
            " 16  자유투 성공              416 non-null    float64\n",
            " 17  자유투 시도              416 non-null    float64\n",
            " 18  자유투 성공률             416 non-null    float64\n",
            " 19  공격 리바운드             416 non-null    float64\n",
            " 20  수비 리바운드             416 non-null    float64\n",
            " 21  총 리바운드              416 non-null    float64\n",
            " 22  어시스트                416 non-null    float64\n",
            " 23  스틸                  416 non-null    float64\n",
            " 24  블록                  416 non-null    float64\n",
            " 25  실책                  416 non-null    float64\n",
            " 26  파울                  416 non-null    float64\n",
            " 27  득점                  416 non-null    float64\n",
            " 28  선수 기여도              416 non-null    float64\n",
            " 29  연봉                  335 non-null    float64\n",
            "dtypes: float64(25), int64(3), object(2)\n",
            "memory usage: 116.9+ KB\n",
            "None\n",
            "<class 'pandas.core.frame.DataFrame'>\n",
            "Index: 150 entries, Precious Achiuwa to Trae Young\n",
            "Data columns (total 30 columns):\n",
            " #   Column              Non-Null Count  Dtype  \n",
            "---  ------              --------------  -----  \n",
            " 0   포지션                 150 non-null    object \n",
            " 1   나이                  150 non-null    int64  \n",
            " 2   소속팀                 150 non-null    object \n",
            " 3   출전 경기 수             150 non-null    int64  \n",
            " 4   선발 출전 횟수            150 non-null    int64  \n",
            " 5   평균 출전 시간            150 non-null    float64\n",
            " 6   야투 성공               150 non-null    float64\n",
            " 7   야투 시도               150 non-null    float64\n",
            " 8   야투 성공률              150 non-null    float64\n",
            " 9   3점슛 성공              150 non-null    float64\n",
            " 10  3점슛 시도              150 non-null    float64\n",
            " 11  3점슛 성공률             150 non-null    float64\n",
            " 12  2점슛 성공              150 non-null    float64\n",
            " 13  2점슛 시도              150 non-null    float64\n",
            " 14  2점슛 성공률             150 non-null    float64\n",
            " 15  3점슛에 보정을 가한 효율성 수치  150 non-null    float64\n",
            " 16  자유투 성공              150 non-null    float64\n",
            " 17  자유투 시도              150 non-null    float64\n",
            " 18  자유투 성공률             150 non-null    float64\n",
            " 19  공격 리바운드             150 non-null    float64\n",
            " 20  수비 리바운드             150 non-null    float64\n",
            " 21  총 리바운드              150 non-null    float64\n",
            " 22  어시스트                150 non-null    float64\n",
            " 23  스틸                  150 non-null    float64\n",
            " 24  블록                  150 non-null    float64\n",
            " 25  실책                  150 non-null    float64\n",
            " 26  파울                  150 non-null    float64\n",
            " 27  득점                  150 non-null    float64\n",
            " 28  선수 기여도              150 non-null    float64\n",
            " 29  연봉                  129 non-null    float64\n",
            "dtypes: float64(25), int64(3), object(2)\n",
            "memory usage: 40.4+ KB\n",
            "None\n"
          ]
        }
      ]
    },
    {
      "cell_type": "code",
      "source": [
        "#연봉에 존재하는 결측치를 nba의 최소 연봉인 922000으로 채우기\n",
        "reg_df['연봉']=reg_df['연봉'].fillna(922000)\n",
        "po_df['연봉']=po_df['연봉'].fillna(922000)"
      ],
      "metadata": {
        "id": "wgiRCl-xjMOM"
      },
      "execution_count": 168,
      "outputs": []
    },
    {
      "cell_type": "code",
      "source": [
        "print(reg_df.info())\n",
        "print(po_df.info())"
      ],
      "metadata": {
        "colab": {
          "base_uri": "https://localhost:8080/"
        },
        "id": "aqMPzApWlBGz",
        "outputId": "facf2f89-28b3-45da-fb82-fd06410fb843"
      },
      "execution_count": 169,
      "outputs": [
        {
          "output_type": "stream",
          "name": "stdout",
          "text": [
            "<class 'pandas.core.frame.DataFrame'>\n",
            "Index: 416 entries, Precious Achiuwa to Ivica Zubac\n",
            "Data columns (total 30 columns):\n",
            " #   Column              Non-Null Count  Dtype  \n",
            "---  ------              --------------  -----  \n",
            " 0   포지션                 416 non-null    object \n",
            " 1   나이                  416 non-null    int64  \n",
            " 2   소속팀                 416 non-null    object \n",
            " 3   출전 경기 수             416 non-null    int64  \n",
            " 4   선발 출전 횟수            416 non-null    int64  \n",
            " 5   평균 출전 시간            416 non-null    float64\n",
            " 6   야투 성공               416 non-null    float64\n",
            " 7   야투 시도               416 non-null    float64\n",
            " 8   야투 성공률              416 non-null    float64\n",
            " 9   3점슛 성공              416 non-null    float64\n",
            " 10  3점슛 시도              416 non-null    float64\n",
            " 11  3점슛 성공률             416 non-null    float64\n",
            " 12  2점슛 성공              416 non-null    float64\n",
            " 13  2점슛 시도              416 non-null    float64\n",
            " 14  2점슛 성공률             416 non-null    float64\n",
            " 15  3점슛에 보정을 가한 효율성 수치  416 non-null    float64\n",
            " 16  자유투 성공              416 non-null    float64\n",
            " 17  자유투 시도              416 non-null    float64\n",
            " 18  자유투 성공률             416 non-null    float64\n",
            " 19  공격 리바운드             416 non-null    float64\n",
            " 20  수비 리바운드             416 non-null    float64\n",
            " 21  총 리바운드              416 non-null    float64\n",
            " 22  어시스트                416 non-null    float64\n",
            " 23  스틸                  416 non-null    float64\n",
            " 24  블록                  416 non-null    float64\n",
            " 25  실책                  416 non-null    float64\n",
            " 26  파울                  416 non-null    float64\n",
            " 27  득점                  416 non-null    float64\n",
            " 28  선수 기여도              416 non-null    float64\n",
            " 29  연봉                  416 non-null    float64\n",
            "dtypes: float64(25), int64(3), object(2)\n",
            "memory usage: 116.9+ KB\n",
            "None\n",
            "<class 'pandas.core.frame.DataFrame'>\n",
            "Index: 150 entries, Precious Achiuwa to Trae Young\n",
            "Data columns (total 30 columns):\n",
            " #   Column              Non-Null Count  Dtype  \n",
            "---  ------              --------------  -----  \n",
            " 0   포지션                 150 non-null    object \n",
            " 1   나이                  150 non-null    int64  \n",
            " 2   소속팀                 150 non-null    object \n",
            " 3   출전 경기 수             150 non-null    int64  \n",
            " 4   선발 출전 횟수            150 non-null    int64  \n",
            " 5   평균 출전 시간            150 non-null    float64\n",
            " 6   야투 성공               150 non-null    float64\n",
            " 7   야투 시도               150 non-null    float64\n",
            " 8   야투 성공률              150 non-null    float64\n",
            " 9   3점슛 성공              150 non-null    float64\n",
            " 10  3점슛 시도              150 non-null    float64\n",
            " 11  3점슛 성공률             150 non-null    float64\n",
            " 12  2점슛 성공              150 non-null    float64\n",
            " 13  2점슛 시도              150 non-null    float64\n",
            " 14  2점슛 성공률             150 non-null    float64\n",
            " 15  3점슛에 보정을 가한 효율성 수치  150 non-null    float64\n",
            " 16  자유투 성공              150 non-null    float64\n",
            " 17  자유투 시도              150 non-null    float64\n",
            " 18  자유투 성공률             150 non-null    float64\n",
            " 19  공격 리바운드             150 non-null    float64\n",
            " 20  수비 리바운드             150 non-null    float64\n",
            " 21  총 리바운드              150 non-null    float64\n",
            " 22  어시스트                150 non-null    float64\n",
            " 23  스틸                  150 non-null    float64\n",
            " 24  블록                  150 non-null    float64\n",
            " 25  실책                  150 non-null    float64\n",
            " 26  파울                  150 non-null    float64\n",
            " 27  득점                  150 non-null    float64\n",
            " 28  선수 기여도              150 non-null    float64\n",
            " 29  연봉                  150 non-null    float64\n",
            "dtypes: float64(25), int64(3), object(2)\n",
            "memory usage: 40.4+ KB\n",
            "None\n"
          ]
        }
      ]
    },
    {
      "cell_type": "code",
      "source": [
        "#팀이 서부 컨퍼런스인지 동부 컨퍼런스인지 구분하기 위한 열 추가\n",
        "for i in reg_df.index:\n",
        "  j=reg_df.loc[i,'소속팀']\n",
        "  if j == 'MIA' or j == 'BOS' or j == 'MIL' or j == 'PHI' or j == 'TOR' or j == 'CHI' or j == 'BRK' or j == 'ATL' or j == 'CLE' or j == 'CHO' or j == 'NYK' or j == 'WAS' or j == 'IND' or j == 'DET' or j == 'ORL':\n",
        "    reg_df.loc[i,'소속 컨퍼런스'] = '동부'\n",
        "  else:\n",
        "    reg_df.loc[i,'소속 컨퍼런스'] = '서부'\n",
        "\n",
        "for i in po_df.index:\n",
        "  j=po_df.loc[i,'소속팀']\n",
        "  if j == 'MIA' or j == 'BOS' or j == 'MIL' or j == 'PHI' or j == 'TOR' or j == 'CHI' or j == 'BRK' or j == 'ATL' or j == 'CLE' or j == 'CHO' or j == 'NYK' or j == 'WAS' or j == 'IND' or j == 'DET' or j == 'ORL':\n",
        "    po_df.loc[i,'소속 컨퍼런스'] = '동부'\n",
        "  else:\n",
        "    po_df.loc[i,'소속 컨퍼런스'] = '서부'\n",
        "\n",
        "west_rank_df['소속 컨퍼런스'] = '서부'\n",
        "\n",
        "east_rank_df['소속 컨퍼런스'] = '동부'"
      ],
      "metadata": {
        "id": "mrjxjmWe0fPA"
      },
      "execution_count": 218,
      "outputs": []
    },
    {
      "cell_type": "code",
      "source": [
        "print(reg_df.info())\n",
        "print(po_df.info())\n",
        "print(west_rank_df.info())\n",
        "print(east_rank_df.info())"
      ],
      "metadata": {
        "colab": {
          "base_uri": "https://localhost:8080/"
        },
        "id": "9rwRndHC3tJQ",
        "outputId": "1ff7157a-dac1-4d0a-c6a2-d37e2344f1ff"
      },
      "execution_count": 181,
      "outputs": [
        {
          "output_type": "stream",
          "name": "stdout",
          "text": [
            "<class 'pandas.core.frame.DataFrame'>\n",
            "Index: 416 entries, Precious Achiuwa to Ivica Zubac\n",
            "Data columns (total 31 columns):\n",
            " #   Column              Non-Null Count  Dtype  \n",
            "---  ------              --------------  -----  \n",
            " 0   포지션                 416 non-null    object \n",
            " 1   나이                  416 non-null    int64  \n",
            " 2   소속팀                 416 non-null    object \n",
            " 3   출전 경기 수             416 non-null    int64  \n",
            " 4   선발 출전 횟수            416 non-null    int64  \n",
            " 5   평균 출전 시간            416 non-null    float64\n",
            " 6   야투 성공               416 non-null    float64\n",
            " 7   야투 시도               416 non-null    float64\n",
            " 8   야투 성공률              416 non-null    float64\n",
            " 9   3점슛 성공              416 non-null    float64\n",
            " 10  3점슛 시도              416 non-null    float64\n",
            " 11  3점슛 성공률             416 non-null    float64\n",
            " 12  2점슛 성공              416 non-null    float64\n",
            " 13  2점슛 시도              416 non-null    float64\n",
            " 14  2점슛 성공률             416 non-null    float64\n",
            " 15  3점슛에 보정을 가한 효율성 수치  416 non-null    float64\n",
            " 16  자유투 성공              416 non-null    float64\n",
            " 17  자유투 시도              416 non-null    float64\n",
            " 18  자유투 성공률             416 non-null    float64\n",
            " 19  공격 리바운드             416 non-null    float64\n",
            " 20  수비 리바운드             416 non-null    float64\n",
            " 21  총 리바운드              416 non-null    float64\n",
            " 22  어시스트                416 non-null    float64\n",
            " 23  스틸                  416 non-null    float64\n",
            " 24  블록                  416 non-null    float64\n",
            " 25  실책                  416 non-null    float64\n",
            " 26  파울                  416 non-null    float64\n",
            " 27  득점                  416 non-null    float64\n",
            " 28  선수 기여도              416 non-null    float64\n",
            " 29  연봉                  416 non-null    float64\n",
            " 30  소속 컨퍼런스             416 non-null    object \n",
            "dtypes: float64(25), int64(3), object(3)\n",
            "memory usage: 120.2+ KB\n",
            "None\n",
            "<class 'pandas.core.frame.DataFrame'>\n",
            "Index: 150 entries, Precious Achiuwa to Trae Young\n",
            "Data columns (total 31 columns):\n",
            " #   Column              Non-Null Count  Dtype  \n",
            "---  ------              --------------  -----  \n",
            " 0   포지션                 150 non-null    object \n",
            " 1   나이                  150 non-null    int64  \n",
            " 2   소속팀                 150 non-null    object \n",
            " 3   출전 경기 수             150 non-null    int64  \n",
            " 4   선발 출전 횟수            150 non-null    int64  \n",
            " 5   평균 출전 시간            150 non-null    float64\n",
            " 6   야투 성공               150 non-null    float64\n",
            " 7   야투 시도               150 non-null    float64\n",
            " 8   야투 성공률              150 non-null    float64\n",
            " 9   3점슛 성공              150 non-null    float64\n",
            " 10  3점슛 시도              150 non-null    float64\n",
            " 11  3점슛 성공률             150 non-null    float64\n",
            " 12  2점슛 성공              150 non-null    float64\n",
            " 13  2점슛 시도              150 non-null    float64\n",
            " 14  2점슛 성공률             150 non-null    float64\n",
            " 15  3점슛에 보정을 가한 효율성 수치  150 non-null    float64\n",
            " 16  자유투 성공              150 non-null    float64\n",
            " 17  자유투 시도              150 non-null    float64\n",
            " 18  자유투 성공률             150 non-null    float64\n",
            " 19  공격 리바운드             150 non-null    float64\n",
            " 20  수비 리바운드             150 non-null    float64\n",
            " 21  총 리바운드              150 non-null    float64\n",
            " 22  어시스트                150 non-null    float64\n",
            " 23  스틸                  150 non-null    float64\n",
            " 24  블록                  150 non-null    float64\n",
            " 25  실책                  150 non-null    float64\n",
            " 26  파울                  150 non-null    float64\n",
            " 27  득점                  150 non-null    float64\n",
            " 28  선수 기여도              150 non-null    float64\n",
            " 29  연봉                  150 non-null    float64\n",
            " 30  소속 컨퍼런스             150 non-null    object \n",
            "dtypes: float64(25), int64(3), object(3)\n",
            "memory usage: 41.6+ KB\n",
            "None\n",
            "<class 'pandas.core.frame.DataFrame'>\n",
            "RangeIndex: 15 entries, 0 to 14\n",
            "Data columns (total 5 columns):\n",
            " #   Column   Non-Null Count  Dtype  \n",
            "---  ------   --------------  -----  \n",
            " 0   팀        15 non-null     object \n",
            " 1   승        15 non-null     int64  \n",
            " 2   패        15 non-null     int64  \n",
            " 3   승률       15 non-null     float64\n",
            " 4   소속 컨퍼런스  15 non-null     object \n",
            "dtypes: float64(1), int64(2), object(2)\n",
            "memory usage: 728.0+ bytes\n",
            "None\n",
            "<class 'pandas.core.frame.DataFrame'>\n",
            "RangeIndex: 15 entries, 0 to 14\n",
            "Data columns (total 5 columns):\n",
            " #   Column   Non-Null Count  Dtype  \n",
            "---  ------   --------------  -----  \n",
            " 0   팀        15 non-null     object \n",
            " 1   승        15 non-null     int64  \n",
            " 2   패        15 non-null     int64  \n",
            " 3   승률       15 non-null     float64\n",
            " 4   소속 컨퍼런스  15 non-null     object \n",
            "dtypes: float64(1), int64(2), object(2)\n",
            "memory usage: 728.0+ bytes\n",
            "None\n"
          ]
        }
      ]
    },
    {
      "cell_type": "code",
      "source": [
        "#각 컨퍼런스의 순위를 승률로 정렬\n",
        "#승률이 동일하면 홈승이 많은 팀이 더 높은 순위를 가짐\n",
        "#동부 컨퍼런스\n",
        "east_rank_df['순위']=east_rank_df[['승률','홈승']].apply(tuple,axis=1).rank(ascending=False)\n",
        "east_rank_df.sort_values(by='순위',inplace=True)\n",
        "print(east_rank_df,'\\n')\n",
        "\n",
        "#서부 컨퍼런스\n",
        "west_rank_df['순위']=west_rank_df[['승률','홈승']].apply(tuple,axis=1).rank(ascending=False)\n",
        "west_rank_df.sort_values(by='순위',inplace=True)\n",
        "print(west_rank_df)"
      ],
      "metadata": {
        "colab": {
          "base_uri": "https://localhost:8080/"
        },
        "id": "Y4NF9vy84pCn",
        "outputId": "2650f06f-126a-4a39-fe61-6d37cda4f9ef"
      },
      "execution_count": 219,
      "outputs": [
        {
          "output_type": "stream",
          "name": "stdout",
          "text": [
            "      팀   승   패  홈승  원정승     승률    순위 소속 컨퍼런스\n",
            "0   MIA  53  29  29   24  0.646   1.0      동부\n",
            "1   BOS  51  31  28   23  0.622   2.0      동부\n",
            "2   MIL  51  31  27   24  0.622   3.0      동부\n",
            "3   PHI  51  31  24   27  0.622   4.0      동부\n",
            "4   TOR  48  34  24   24  0.585   5.0      동부\n",
            "5   CHI  46  36  27   19  0.561   6.0      동부\n",
            "8   CLE  44  38  25   19  0.537   7.0      동부\n",
            "6   BRK  44  38  20   24  0.537   8.0      동부\n",
            "7   ATL  43  39  27   16  0.524   9.0      동부\n",
            "9   CHO  43  39  22   21  0.524  10.0      동부\n",
            "10  NYK  37  45  17   20  0.451  11.0      동부\n",
            "11  WAS  35  47  21   14  0.427  12.0      동부\n",
            "12  IND  25  57  16    9  0.305  13.0      동부\n",
            "13  DET  23  59  13   10  0.280  14.0      동부\n",
            "14  ORL  22  60  12   10  0.268  15.0      동부 \n",
            "\n",
            "      팀   승   패  홈승  원정승     승률    순위 소속 컨퍼런스\n",
            "0   PHO  64  18  32   32  0.780   1.0      서부\n",
            "1   MEM  56  26  30   26  0.683   2.0      서부\n",
            "2   GSW  53  29  31   22  0.646   3.0      서부\n",
            "3   DAL  52  30  29   23  0.634   4.0      서부\n",
            "4   UTA  49  33  29   20  0.598   5.0      서부\n",
            "5   DEN  48  34  23   25  0.585   6.0      서부\n",
            "6   MIN  46  36  26   20  0.561   7.0      서부\n",
            "8   LAC  42  40  25   17  0.512   8.0      서부\n",
            "7   NOP  36  46  19   17  0.439   9.0      서부\n",
            "9   SAS  34  48  16   18  0.415  10.0      서부\n",
            "10  LAL  33  49  21   12  0.402  11.0      서부\n",
            "11  SAC  30  52  16   14  0.366  12.0      서부\n",
            "12  POR  27  55  17   10  0.329  13.0      서부\n",
            "13  OKC  24  58  12   12  0.293  14.0      서부\n",
            "14  HOU  20  62  11    9  0.244  15.0      서부\n"
          ]
        }
      ]
    },
    {
      "cell_type": "code",
      "source": [
        "#전체 순위 데이터 만들기(승률로 정렬 -> 승률이 동일하면 홈승이 많은 팀이 더 높은 순위를 가짐)\n",
        "total_rank_df=pd.concat([east_rank_df,west_rank_df])\n",
        "total_rank_df['순위']=total_rank_df[['승률','홈승']].apply(tuple,axis=1).rank(ascending=False)\n",
        "total_rank_df.sort_values(by='순위',inplace=True)\n",
        "print(total_rank_df)"
      ],
      "metadata": {
        "colab": {
          "base_uri": "https://localhost:8080/"
        },
        "id": "RP7B-tW6ELne",
        "outputId": "1c139797-a341-4fa6-daf5-e4bc90df8e54"
      },
      "execution_count": 220,
      "outputs": [
        {
          "output_type": "stream",
          "name": "stdout",
          "text": [
            "      팀   승   패  홈승  원정승     승률    순위 소속 컨퍼런스\n",
            "0   PHO  64  18  32   32  0.780   1.0      서부\n",
            "1   MEM  56  26  30   26  0.683   2.0      서부\n",
            "2   GSW  53  29  31   22  0.646   3.0      서부\n",
            "0   MIA  53  29  29   24  0.646   4.0      동부\n",
            "3   DAL  52  30  29   23  0.634   5.0      서부\n",
            "1   BOS  51  31  28   23  0.622   6.0      동부\n",
            "2   MIL  51  31  27   24  0.622   7.0      동부\n",
            "3   PHI  51  31  24   27  0.622   8.0      동부\n",
            "4   UTA  49  33  29   20  0.598   9.0      서부\n",
            "4   TOR  48  34  24   24  0.585  10.0      동부\n",
            "5   DEN  48  34  23   25  0.585  11.0      서부\n",
            "5   CHI  46  36  27   19  0.561  12.0      동부\n",
            "6   MIN  46  36  26   20  0.561  13.0      서부\n",
            "8   CLE  44  38  25   19  0.537  14.0      동부\n",
            "6   BRK  44  38  20   24  0.537  15.0      동부\n",
            "7   ATL  43  39  27   16  0.524  16.0      동부\n",
            "9   CHO  43  39  22   21  0.524  17.0      동부\n",
            "8   LAC  42  40  25   17  0.512  18.0      서부\n",
            "10  NYK  37  45  17   20  0.451  19.0      동부\n",
            "7   NOP  36  46  19   17  0.439  20.0      서부\n",
            "11  WAS  35  47  21   14  0.427  21.0      동부\n",
            "9   SAS  34  48  16   18  0.415  22.0      서부\n",
            "10  LAL  33  49  21   12  0.402  23.0      서부\n",
            "11  SAC  30  52  16   14  0.366  24.0      서부\n",
            "12  POR  27  55  17   10  0.329  25.0      서부\n",
            "12  IND  25  57  16    9  0.305  26.0      동부\n",
            "13  OKC  24  58  12   12  0.293  27.0      서부\n",
            "13  DET  23  59  13   10  0.280  28.0      동부\n",
            "14  ORL  22  60  12   10  0.268  29.0      동부\n",
            "14  HOU  20  62  11    9  0.244  30.0      서부\n"
          ]
        }
      ]
    },
    {
      "cell_type": "code",
      "source": [
        "#순위를 나타내는 세 데이터프레임의 인덱스를 순위로 지정\n",
        "west_rank_df.set_index('순위',inplace=True)\n",
        "east_rank_df.set_index('순위',inplace=True)\n",
        "total_rank_df.set_index('순위',inplace=True)"
      ],
      "metadata": {
        "id": "rXEE1j6hFPfN"
      },
      "execution_count": 223,
      "outputs": []
    },
    {
      "cell_type": "code",
      "source": [
        "print(west_rank_df.info())\n",
        "print(east_rank_df.info())\n",
        "print(total_rank_df.info())"
      ],
      "metadata": {
        "colab": {
          "base_uri": "https://localhost:8080/"
        },
        "id": "UJjyQwUXGn2M",
        "outputId": "59c99bbb-7517-43ed-f7cf-b48d29689d68"
      },
      "execution_count": 227,
      "outputs": [
        {
          "output_type": "stream",
          "name": "stdout",
          "text": [
            "<class 'pandas.core.frame.DataFrame'>\n",
            "Float64Index: 15 entries, 1.0 to 15.0\n",
            "Data columns (total 7 columns):\n",
            " #   Column   Non-Null Count  Dtype  \n",
            "---  ------   --------------  -----  \n",
            " 0   팀        15 non-null     object \n",
            " 1   승        15 non-null     int64  \n",
            " 2   패        15 non-null     int64  \n",
            " 3   홈승       15 non-null     int64  \n",
            " 4   원정승      15 non-null     int64  \n",
            " 5   승률       15 non-null     float64\n",
            " 6   소속 컨퍼런스  15 non-null     object \n",
            "dtypes: float64(1), int64(4), object(2)\n",
            "memory usage: 960.0+ bytes\n",
            "None\n",
            "<class 'pandas.core.frame.DataFrame'>\n",
            "Float64Index: 15 entries, 1.0 to 15.0\n",
            "Data columns (total 7 columns):\n",
            " #   Column   Non-Null Count  Dtype  \n",
            "---  ------   --------------  -----  \n",
            " 0   팀        15 non-null     object \n",
            " 1   승        15 non-null     int64  \n",
            " 2   패        15 non-null     int64  \n",
            " 3   홈승       15 non-null     int64  \n",
            " 4   원정승      15 non-null     int64  \n",
            " 5   승률       15 non-null     float64\n",
            " 6   소속 컨퍼런스  15 non-null     object \n",
            "dtypes: float64(1), int64(4), object(2)\n",
            "memory usage: 960.0+ bytes\n",
            "None\n",
            "<class 'pandas.core.frame.DataFrame'>\n",
            "Float64Index: 30 entries, 1.0 to 30.0\n",
            "Data columns (total 7 columns):\n",
            " #   Column   Non-Null Count  Dtype  \n",
            "---  ------   --------------  -----  \n",
            " 0   팀        30 non-null     object \n",
            " 1   승        30 non-null     int64  \n",
            " 2   패        30 non-null     int64  \n",
            " 3   홈승       30 non-null     int64  \n",
            " 4   원정승      30 non-null     int64  \n",
            " 5   승률       30 non-null     float64\n",
            " 6   소속 컨퍼런스  30 non-null     object \n",
            "dtypes: float64(1), int64(4), object(2)\n",
            "memory usage: 1.9+ KB\n",
            "None\n"
          ]
        }
      ]
    },
    {
      "cell_type": "markdown",
      "source": [
        "3. 시각화"
      ],
      "metadata": {
        "id": "Xg5vqHKXi9Tt"
      }
    },
    {
      "cell_type": "markdown",
      "source": [
        "정규 시즌 팀별 연봉 총합 비교(전체)"
      ],
      "metadata": {
        "id": "1bXaKrxpjE-N"
      }
    },
    {
      "cell_type": "code",
      "source": [
        "total_salary=reg_df.groupby('소속팀')['연봉'].sum()\n",
        "total_salary=total_salary.sort_values(ascending=False)\n",
        "\n",
        "plt.figure(figsize=(15, 15))\n",
        "plt.bar(total_salary.index,total_salary,width=0.8)\n",
        "plt.title(\"팀별 연봉 총합(전체)\")\n",
        "plt.xlabel(\"팀\")\n",
        "plt.ylabel(\"연봉 총합\")\n",
        "plt.show()"
      ],
      "metadata": {
        "colab": {
          "base_uri": "https://localhost:8080/",
          "height": 890
        },
        "id": "ePRKhWjbjCp9",
        "outputId": "dfb25bfc-0017-4228-a3eb-284f293188ac"
      },
      "execution_count": 174,
      "outputs": [
        {
          "output_type": "display_data",
          "data": {
            "text/plain": [
              "<Figure size 1080x1080 with 1 Axes>"
            ],
            "image/png": "[encoded data removed]"
          },
          "metadata": {
            "needs_background": "light"
          }
        }
      ]
    },
    {
      "cell_type": "markdown",
      "source": [
        "정규 시즌 팀별 연봉 총합 비교(컨퍼런스)"
      ],
      "metadata": {
        "id": "r2xGFdgwzNH4"
      }
    },
    {
      "cell_type": "code",
      "source": [
        "west_reg_df=reg_df[reg_df['소속 컨퍼런스']=='서부']\n",
        "east_reg_df=reg_df[reg_df['소속 컨퍼런스']=='동부']\n",
        "\n",
        "total_salary_west=west_reg_df.groupby('소속팀')['연봉'].sum()\n",
        "total_salary_west=total_salary_west.sort_values(ascending=False)\n",
        "\n",
        "total_salary_east=east_reg_df.groupby('소속팀')['연봉'].sum()\n",
        "total_salary_east=total_salary_east.sort_values(ascending=False)\n",
        "\n",
        "fig, ax=plt.subplots(2,1,figsize=(10,10))\n",
        "ax[0].bar(total_salary_west.index,total_salary_west,width=0.8)\n",
        "ax[0].set_title(\"팀별 연봉 총합(서부 컨퍼런스)\")\n",
        "ax[0].set_xlabel(\"팀\")\n",
        "ax[0].set_ylabel(\"연봉 총합\")\n",
        "\n",
        "ax[1].bar(total_salary_east.index,total_salary_east,width=0.8)\n",
        "ax[1].set_title(\"팀별 연봉 총합(동부 컨퍼런스)\")\n",
        "ax[1].set_xlabel(\"팀\")\n",
        "ax[1].set_ylabel(\"연봉 총합\")\n",
        "plt.show()"
      ],
      "metadata": {
        "colab": {
          "base_uri": "https://localhost:8080/",
          "height": 619
        },
        "id": "uaFilQIwzL4j",
        "outputId": "b873299e-10c0-47e1-c6b4-243a2d916449"
      },
      "execution_count": 236,
      "outputs": [
        {
          "output_type": "display_data",
          "data": {
            "text/plain": [
              "<Figure size 720x720 with 2 Axes>"
            ],
            "image/png": "[encoded data removed]"
          },
          "metadata": {
            "needs_background": "light"
          }
        }
      ]
    },
    {
      "cell_type": "markdown",
      "source": [
        "팀별 득점 총합 비교(전체)"
      ],
      "metadata": {
        "id": "LdnlYXFTHAGz"
      }
    },
    {
      "cell_type": "code",
      "source": [
        "#팀 별로 인원 수가 달라서 정확한 데이터는 아니지만 주요 선수들의 데이터만 남겨서 대략적인 득점력을 알 수 있어서 해당 데이터를 비교\n",
        "total_score=reg_df.groupby('소속팀')['득점'].sum()\n",
        "total_score=total_score.sort_values(ascending=False)\n",
        "\n",
        "plt.figure(figsize=(15, 15))\n",
        "plt.bar(total_score.index,total_score,width=0.8)\n",
        "plt.title(\"팀별 득점 총합(전체)\")\n",
        "plt.xlabel(\"팀\")\n",
        "plt.ylabel(\"득점 총합\")\n",
        "plt.show()"
      ],
      "metadata": {
        "colab": {
          "base_uri": "https://localhost:8080/",
          "height": 890
        },
        "id": "T50MW4-tG-1M",
        "outputId": "adcf3608-907b-4a67-ba10-210af3c0edf9"
      },
      "execution_count": 264,
      "outputs": [
        {
          "output_type": "display_data",
          "data": {
            "text/plain": [
              "<Figure size 1080x1080 with 1 Axes>"
            ],
            "image/png": "[encoded data removed]"
          },
          "metadata": {
            "needs_background": "light"
          }
        }
      ]
    },
    {
      "cell_type": "markdown",
      "source": [
        "정규 시즌 팀별 득점 총합 비교(컨퍼런스)"
      ],
      "metadata": {
        "id": "Wa6RQPg8I9lE"
      }
    },
    {
      "cell_type": "code",
      "source": [
        "total_score_west=west_reg_df.groupby('소속팀')['득점'].sum()\n",
        "total_score_west=total_score_west.sort_values(ascending=False)\n",
        "\n",
        "total_score_east=east_reg_df.groupby('소속팀')['득점'].sum()\n",
        "total_score_east=total_score_east.sort_values(ascending=False)\n",
        "\n",
        "fig, ax=plt.subplots(2,1,figsize=(10,10))\n",
        "ax[0].bar(total_score_west.index,total_score_west,width=0.8)\n",
        "ax[0].set_title(\"팀별 득점 총합(서부 컨퍼런스)\")\n",
        "ax[0].set_xlabel(\"팀\")\n",
        "ax[0].set_ylabel(\"득점 총합\")\n",
        "\n",
        "ax[1].bar(total_score_east.index,total_score_east,width=0.8)\n",
        "ax[1].set_title(\"팀별 득점 총합(동부 컨퍼런스)\")\n",
        "ax[1].set_xlabel(\"팀\")\n",
        "ax[1].set_ylabel(\"득점 총합\")\n",
        "plt.show()"
      ],
      "metadata": {
        "colab": {
          "base_uri": "https://localhost:8080/",
          "height": 619
        },
        "id": "7PJAmu22I-V0",
        "outputId": "264a52eb-8621-471b-d1ea-ba15975995cd"
      },
      "execution_count": 265,
      "outputs": [
        {
          "output_type": "display_data",
          "data": {
            "text/plain": [
              "<Figure size 720x720 with 2 Axes>"
            ],
            "image/png": "[encoded data removed]"
          },
          "metadata": {
            "needs_background": "light"
          }
        }
      ]
    },
    {
      "cell_type": "markdown",
      "source": [
        "팀별 어시스트 총합 비교(전체)"
      ],
      "metadata": {
        "id": "DgfxxYc5Jt7z"
      }
    },
    {
      "cell_type": "code",
      "source": [
        "#팀 별로 인원 수가 달라서 정확한 데이터는 아니지만 주요 선수들의 데이터만 남겨서 대략적인 공격 집중력을 알 수 있어서 해당 데이터를 비교\n",
        "total_assist=reg_df.groupby('소속팀')['어시스트'].sum()\n",
        "total_assist=total_assist.sort_values(ascending=False)\n",
        "\n",
        "plt.figure(figsize=(15, 15))\n",
        "plt.bar(total_assist.index,total_assist,width=0.8)\n",
        "plt.title(\"팀별 어시스트(전체)\")\n",
        "plt.xlabel(\"팀\")\n",
        "plt.ylabel(\"어시스트\")\n",
        "plt.show()"
      ],
      "metadata": {
        "colab": {
          "base_uri": "https://localhost:8080/",
          "height": 890
        },
        "id": "GBkcxCvJJtIT",
        "outputId": "654ddab8-7ed2-4b9c-891f-4f9751534217"
      },
      "execution_count": 261,
      "outputs": [
        {
          "output_type": "display_data",
          "data": {
            "text/plain": [
              "<Figure size 1080x1080 with 1 Axes>"
            ],
            "image/png": "[encoded data removed]"
          },
          "metadata": {
            "needs_background": "light"
          }
        }
      ]
    },
    {
      "cell_type": "markdown",
      "source": [
        "정규 시즌 팀별 어시스트 총합 비교(컨퍼런스)"
      ],
      "metadata": {
        "id": "k3ltNbceKXhM"
      }
    },
    {
      "cell_type": "code",
      "source": [
        "total_assist_west=west_reg_df.groupby('소속팀')['어시스트'].sum()\n",
        "total_assist_west=total_assist_west.sort_values(ascending=False)\n",
        "\n",
        "total_assist_east=east_reg_df.groupby('소속팀')['어시스트'].sum()\n",
        "total_assist_east=total_assist_east.sort_values(ascending=False)\n",
        "\n",
        "fig, ax=plt.subplots(2,1,figsize=(10,10))\n",
        "ax[0].bar(total_assist_west.index,total_assist_west,width=0.8)\n",
        "ax[0].set_title(\"팀별 어시스트 총합(서부 컨퍼런스)\")\n",
        "ax[0].set_xlabel(\"팀\")\n",
        "ax[0].set_ylabel(\"어시스트\")\n",
        "\n",
        "ax[1].bar(total_assist_east.index,total_assist_east,width=0.8)\n",
        "ax[1].set_title(\"팀별 어시스트 총합(동부 컨퍼런스)\")\n",
        "ax[1].set_xlabel(\"팀\")\n",
        "ax[1].set_ylabel(\"어시스트\")\n",
        "plt.show()"
      ],
      "metadata": {
        "colab": {
          "base_uri": "https://localhost:8080/",
          "height": 619
        },
        "id": "L6JPJGfBKYhj",
        "outputId": "dd2b713b-b332-475f-c011-ff3ca88832d6"
      },
      "execution_count": 266,
      "outputs": [
        {
          "output_type": "display_data",
          "data": {
            "text/plain": [
              "<Figure size 720x720 with 2 Axes>"
            ],
            "image/png": "[encoded data removed]"
          },
          "metadata": {
            "needs_background": "light"
          }
        }
      ]
    },
    {
      "cell_type": "markdown",
      "source": [
        "정규 시즌 팀별 수비 리바운드 총합 비교(컨퍼런스)"
      ],
      "metadata": {
        "id": "PV3NktMzR4bh"
      }
    },
    {
      "cell_type": "code",
      "source": [
        "#팀 별로 인원 수가 달라서 정확한 데이터는 아니지만 주요 선수들의 데이터만 남겨서 대략적인 수비 집중력을 알 수 있어서 해당 데이터를 비교\n",
        "total_defence_rebound=reg_df.groupby('소속팀')['수비 리바운드'].sum()\n",
        "total_defence_rebound=total_defence_rebound.sort_values(ascending=False)\n",
        "\n",
        "plt.figure(figsize=(15, 15))\n",
        "plt.bar(total_defence_rebound.index,total_defence_rebound,width=0.8)\n",
        "plt.title(\"팀별 수비 리바운드(전체)\")\n",
        "plt.xlabel(\"팀\")\n",
        "plt.ylabel(\"수비 리바운드\")\n",
        "plt.show()"
      ],
      "metadata": {
        "colab": {
          "base_uri": "https://localhost:8080/",
          "height": 890
        },
        "id": "7OHTbDE8R88B",
        "outputId": "0445f468-f982-4e48-d6a5-ab096eb05826"
      },
      "execution_count": 267,
      "outputs": [
        {
          "output_type": "display_data",
          "data": {
            "text/plain": [
              "<Figure size 1080x1080 with 1 Axes>"
            ],
            "image/png": "[encoded data removed]"
          },
          "metadata": {
            "needs_background": "light"
          }
        }
      ]
    },
    {
      "cell_type": "markdown",
      "source": [
        "정규 시즌 팀별 수비 리바운드 총합 비교(컨퍼런스)"
      ],
      "metadata": {
        "id": "h0Nf-2yMSq86"
      }
    },
    {
      "cell_type": "code",
      "source": [
        "total_defence_rebound_west=west_reg_df.groupby('소속팀')['수비 리바운드'].sum()\n",
        "total_defence_rebound_west=total_defence_rebound_west.sort_values(ascending=False)\n",
        "\n",
        "total_defence_rebound_east=east_reg_df.groupby('소속팀')['수비 리바운드'].sum()\n",
        "total_defence_rebound_east=total_defence_rebound_east.sort_values(ascending=False)\n",
        "\n",
        "fig, ax=plt.subplots(2,1,figsize=(10,10))\n",
        "ax[0].bar(total_defence_rebound_west.index,total_defence_rebound_west,width=0.8)\n",
        "ax[0].set_title(\"팀별 수비 리바운드(서부 컨퍼런스)\")\n",
        "ax[0].set_xlabel(\"팀\")\n",
        "ax[0].set_ylabel(\"수비 리바운드\")\n",
        "\n",
        "ax[1].bar(total_defence_rebound_east.index,total_defence_rebound_east,width=0.8)\n",
        "ax[1].set_title(\"팀별 수비 리바운드(동부 컨퍼런스)\")\n",
        "ax[1].set_xlabel(\"팀\")\n",
        "ax[1].set_ylabel(\"수비 리바운드\")\n",
        "plt.show()"
      ],
      "metadata": {
        "colab": {
          "base_uri": "https://localhost:8080/",
          "height": 619
        },
        "id": "S1dBPMq1Sswx",
        "outputId": "cab6dc4e-da94-4e9c-9700-0cf6269186a8"
      },
      "execution_count": 268,
      "outputs": [
        {
          "output_type": "display_data",
          "data": {
            "text/plain": [
              "<Figure size 720x720 with 2 Axes>"
            ],
            "image/png": "[encoded data removed]"
          },
          "metadata": {
            "needs_background": "light"
          }
        }
      ]
    },
    {
      "cell_type": "markdown",
      "source": [
        "정규 시즌 팀별 공격 리바운드 총합 비교(전체)"
      ],
      "metadata": {
        "id": "RCRfQfPkTAnJ"
      }
    },
    {
      "cell_type": "code",
      "source": [
        "#팀 별로 인원 수가 달라서 정확한 데이터는 아니지만 주요 선수들의 데이터만 남겨서 대략적인 공격 집중력을 알 수 있어서 해당 데이터를 비교\n",
        "total_offence_rebound=reg_df.groupby('소속팀')['공격 리바운드'].sum()\n",
        "total_offence_rebound=total_offence_rebound.sort_values(ascending=False)\n",
        "\n",
        "plt.figure(figsize=(15, 15))\n",
        "plt.bar(total_offence_rebound.index,total_offence_rebound,width=0.8)\n",
        "plt.title(\"팀별 공격 리바운드(전체)\")\n",
        "plt.xlabel(\"팀\")\n",
        "plt.ylabel(\"공격 리바운드\")\n",
        "plt.show()"
      ],
      "metadata": {
        "colab": {
          "base_uri": "https://localhost:8080/",
          "height": 890
        },
        "id": "0UlF9HJPTEqB",
        "outputId": "327d28c3-84ae-4ecc-dae5-7e33c9de3908"
      },
      "execution_count": 269,
      "outputs": [
        {
          "output_type": "display_data",
          "data": {
            "text/plain": [
              "<Figure size 1080x1080 with 1 Axes>"
            ],
            "image/png": "[encoded data removed]"
          },
          "metadata": {
            "needs_background": "light"
          }
        }
      ]
    },
    {
      "cell_type": "markdown",
      "source": [
        "정규 시즌 팀별 공격 리바운드 총합 비교(컨퍼런스)"
      ],
      "metadata": {
        "id": "IX1zw_jHTWBp"
      }
    },
    {
      "cell_type": "code",
      "source": [
        "total_offence_rebound_west=west_reg_df.groupby('소속팀')['공격 리바운드'].sum()\n",
        "total_offence_rebound_west=total_offence_rebound_west.sort_values(ascending=False)\n",
        "\n",
        "total_offence_rebound_east=east_reg_df.groupby('소속팀')['공격 리바운드'].sum()\n",
        "total_offence_rebound_east=total_offence_rebound_east.sort_values(ascending=False)\n",
        "\n",
        "fig, ax=plt.subplots(2,1,figsize=(10,10))\n",
        "ax[0].bar(total_offence_rebound_west.index,total_offence_rebound_west,width=0.8)\n",
        "ax[0].set_title(\"팀별 공격 리바운드(서부 컨퍼런스)\")\n",
        "ax[0].set_xlabel(\"팀\")\n",
        "ax[0].set_ylabel(\"공격 리바운드\")\n",
        "\n",
        "ax[1].bar(total_offence_rebound_east.index,total_offence_rebound_east,width=0.8)\n",
        "ax[1].set_title(\"팀별 공격 리바운드(동부 컨퍼런스)\")\n",
        "ax[1].set_xlabel(\"팀\")\n",
        "ax[1].set_ylabel(\"공격 리바운드\")\n",
        "plt.show()"
      ],
      "metadata": {
        "colab": {
          "base_uri": "https://localhost:8080/",
          "height": 619
        },
        "id": "CxcNsZuPTPKq",
        "outputId": "49a8b409-24dc-4fd7-de04-0373adc22404"
      },
      "execution_count": 270,
      "outputs": [
        {
          "output_type": "display_data",
          "data": {
            "text/plain": [
              "<Figure size 720x720 with 2 Axes>"
            ],
            "image/png": "[encoded data removed]"
          },
          "metadata": {
            "needs_background": "light"
          }
        }
      ]
    },
    {
      "cell_type": "markdown",
      "source": [
        "정규 시즌 팀별 스틸 총합 비교(전체)"
      ],
      "metadata": {
        "id": "VH0olJGrTxzR"
      }
    },
    {
      "cell_type": "code",
      "source": [
        "#팀 별로 인원 수가 달라서 정확한 데이터는 아니지만 주요 선수들의 데이터만 남겨서 대략적인 수비 집중력을 알 수 있어서 해당 데이터를 비교\n",
        "total_steal=reg_df.groupby('소속팀')['스틸'].sum()\n",
        "total_steal=total_steal.sort_values(ascending=False)\n",
        "\n",
        "plt.figure(figsize=(15, 15))\n",
        "plt.bar(total_steal.index,total_steal,width=0.8)\n",
        "plt.title(\"팀별 스틸(전체)\")\n",
        "plt.xlabel(\"팀\")\n",
        "plt.ylabel(\"스틸\")\n",
        "plt.show()"
      ],
      "metadata": {
        "colab": {
          "base_uri": "https://localhost:8080/",
          "height": 890
        },
        "id": "yKBLp2akT2qA",
        "outputId": "b3f55d38-c8b3-4bbe-9afe-123040996198"
      },
      "execution_count": 271,
      "outputs": [
        {
          "output_type": "display_data",
          "data": {
            "text/plain": [
              "<Figure size 1080x1080 with 1 Axes>"
            ],
            "image/png": "[encoded data removed]"
          },
          "metadata": {
            "needs_background": "light"
          }
        }
      ]
    },
    {
      "cell_type": "markdown",
      "source": [
        "정규 시즌 팀별 스틸 총합 비교(컨퍼런스)"
      ],
      "metadata": {
        "id": "83k876Y2UH_w"
      }
    },
    {
      "cell_type": "code",
      "source": [
        "total_steal_west=west_reg_df.groupby('소속팀')['스틸'].sum()\n",
        "total_steal_west=total_steal_west.sort_values(ascending=False)\n",
        "\n",
        "total_steal_east=east_reg_df.groupby('소속팀')['스틸'].sum()\n",
        "total_steal_east=total_steal_east.sort_values(ascending=False)\n",
        "\n",
        "fig, ax=plt.subplots(2,1,figsize=(10,10))\n",
        "ax[0].bar(total_steal_west.index,total_steal_west,width=0.8)\n",
        "ax[0].set_title(\"팀별 스틸(서부 컨퍼런스)\")\n",
        "ax[0].set_xlabel(\"팀\")\n",
        "ax[0].set_ylabel(\"스틸\")\n",
        "\n",
        "ax[1].bar(total_steal_east.index,total_steal_east,width=0.8)\n",
        "ax[1].set_title(\"팀별 스틸(동부 컨퍼런스)\")\n",
        "ax[1].set_xlabel(\"팀\")\n",
        "ax[1].set_ylabel(\"스틸\")\n",
        "plt.show()"
      ],
      "metadata": {
        "colab": {
          "base_uri": "https://localhost:8080/",
          "height": 619
        },
        "id": "ZEmGLfv1UKHw",
        "outputId": "8bf89d7e-3cd3-426b-f295-56be51b2d2c3"
      },
      "execution_count": 272,
      "outputs": [
        {
          "output_type": "display_data",
          "data": {
            "text/plain": [
              "<Figure size 720x720 with 2 Axes>"
            ],
            "image/png": "[encoded data removed]"
          },
          "metadata": {
            "needs_background": "light"
          }
        }
      ]
    },
    {
      "cell_type": "markdown",
      "source": [
        "정규 시즌 팀별 블록 총합 비교(전체)"
      ],
      "metadata": {
        "id": "UhupjPSkUir5"
      }
    },
    {
      "cell_type": "code",
      "source": [
        "#팀 별로 인원 수가 달라서 정확한 데이터는 아니지만 주요 선수들의 데이터만 남겨서 대략적인 수비 집중력을 알 수 있어서 해당 데이터를 비교\n",
        "total_block=reg_df.groupby('소속팀')['블록'].sum()\n",
        "total_block=total_block.sort_values(ascending=False)\n",
        "\n",
        "plt.figure(figsize=(15, 15))\n",
        "plt.bar(total_block.index,total_block,width=0.8)\n",
        "plt.title(\"팀별 블록(전체)\")\n",
        "plt.xlabel(\"팀\")\n",
        "plt.ylabel(\"블록\")\n",
        "plt.show()"
      ],
      "metadata": {
        "colab": {
          "base_uri": "https://localhost:8080/",
          "height": 890
        },
        "id": "C1FlRX2YUlog",
        "outputId": "76c4bb51-bce5-4eae-eb1f-7d569e802233"
      },
      "execution_count": 273,
      "outputs": [
        {
          "output_type": "display_data",
          "data": {
            "text/plain": [
              "<Figure size 1080x1080 with 1 Axes>"
            ],
            "image/png": "[encoded data removed]"
          },
          "metadata": {
            "needs_background": "light"
          }
        }
      ]
    },
    {
      "cell_type": "markdown",
      "source": [
        "정규 시즌 팀별 블록 총합 비교(컨퍼런스)"
      ],
      "metadata": {
        "id": "hAIsFcrUUTRA"
      }
    },
    {
      "cell_type": "code",
      "source": [
        "total_block_west=west_reg_df.groupby('소속팀')['블록'].sum()\n",
        "total_block_west=total_block_west.sort_values(ascending=False)\n",
        "\n",
        "total_block_east=east_reg_df.groupby('소속팀')['블록'].sum()\n",
        "total_block_east=total_block_east.sort_values(ascending=False)\n",
        "\n",
        "fig, ax=plt.subplots(2,1,figsize=(10,10))\n",
        "ax[0].bar(total_block_west.index,total_block_west,width=0.8)\n",
        "ax[0].set_title(\"팀별 블록(서부 컨퍼런스)\")\n",
        "ax[0].set_xlabel(\"팀\")\n",
        "ax[0].set_ylabel(\"블록\")\n",
        "\n",
        "ax[1].bar(total_block_east.index,total_block_east,width=0.8)\n",
        "ax[1].set_title(\"팀별 블록(동부 컨퍼런스)\")\n",
        "ax[1].set_xlabel(\"팀\")\n",
        "ax[1].set_ylabel(\"블록\")\n",
        "plt.show()"
      ],
      "metadata": {
        "colab": {
          "base_uri": "https://localhost:8080/",
          "height": 619
        },
        "id": "CbLJfe2yUwSY",
        "outputId": "6847ff03-3b36-4ee6-bbe4-fd9989ad8c73"
      },
      "execution_count": 274,
      "outputs": [
        {
          "output_type": "display_data",
          "data": {
            "text/plain": [
              "<Figure size 720x720 with 2 Axes>"
            ],
            "image/png": "[encoded data removed]"
          },
          "metadata": {
            "needs_background": "light"
          }
        }
      ]
    },
    {
      "cell_type": "markdown",
      "source": [
        "정규 시즌 팀별 실책 총합 비교(전체)"
      ],
      "metadata": {
        "id": "jomFcZ8tU_cZ"
      }
    },
    {
      "cell_type": "code",
      "source": [
        "#팀 별로 인원 수가 달라서 정확한 데이터는 아니지만 주요 선수들의 데이터만 남겨서 대략적인 수비 및 공격 실패를 알 수 있어서 해당 데이터를 비교\n",
        "total_miss=reg_df.groupby('소속팀')['실책'].sum()\n",
        "total_miss=total_miss.sort_values(ascending=False)\n",
        "\n",
        "plt.figure(figsize=(15, 15))\n",
        "plt.bar(total_miss.index,total_miss,width=0.8)\n",
        "plt.title(\"팀별 실책(전체)\")\n",
        "plt.xlabel(\"팀\")\n",
        "plt.ylabel(\"실책\")\n",
        "plt.show()"
      ],
      "metadata": {
        "colab": {
          "base_uri": "https://localhost:8080/",
          "height": 890
        },
        "id": "ynHq-vc3VBAh",
        "outputId": "1977ae40-df71-48c9-9fc0-fea89dd65f22"
      },
      "execution_count": 275,
      "outputs": [
        {
          "output_type": "display_data",
          "data": {
            "text/plain": [
              "<Figure size 1080x1080 with 1 Axes>"
            ],
            "image/png": "[encoded data removed]"
          },
          "metadata": {
            "needs_background": "light"
          }
        }
      ]
    },
    {
      "cell_type": "markdown",
      "source": [
        "정규 시즌 팀별 실책 총합 비교(컨퍼런스)"
      ],
      "metadata": {
        "id": "EAO5aj4uU3Sp"
      }
    },
    {
      "cell_type": "code",
      "source": [
        "total_miss_west=west_reg_df.groupby('소속팀')['실책'].sum()\n",
        "total_miss_west=total_miss_west.sort_values(ascending=False)\n",
        "\n",
        "total_miss_east=east_reg_df.groupby('소속팀')['실책'].sum()\n",
        "total_miss_east=total_miss_east.sort_values(ascending=False)\n",
        "\n",
        "fig, ax=plt.subplots(2,1,figsize=(10,10))\n",
        "ax[0].bar(total_miss_west.index,total_miss_west,width=0.8)\n",
        "ax[0].set_title(\"팀별 실책(서부 컨퍼런스)\")\n",
        "ax[0].set_xlabel(\"팀\")\n",
        "ax[0].set_ylabel(\"실책\")\n",
        "\n",
        "ax[1].bar(total_miss_east.index,total_miss_east,width=0.8)\n",
        "ax[1].set_title(\"팀별 실책(동부 컨퍼런스)\")\n",
        "ax[1].set_xlabel(\"팀\")\n",
        "ax[1].set_ylabel(\"실책\")\n",
        "plt.show()"
      ],
      "metadata": {
        "colab": {
          "base_uri": "https://localhost:8080/",
          "height": 619
        },
        "id": "m6HYT-9vVTPw",
        "outputId": "740f8bec-190a-4d8d-d52a-0d84c6adcbfd"
      },
      "execution_count": 276,
      "outputs": [
        {
          "output_type": "display_data",
          "data": {
            "text/plain": [
              "<Figure size 720x720 with 2 Axes>"
            ],
            "image/png": "[encoded data removed]"
          },
          "metadata": {
            "needs_background": "light"
          }
        }
      ]
    },
    {
      "cell_type": "markdown",
      "source": [
        "정규 시즌 팀별 홈승 비교"
      ],
      "metadata": {
        "id": "sN8Fynk4Vi6x"
      }
    },
    {
      "cell_type": "code",
      "source": [
        "#홈에서 어느 팀이 강했나를 확인할 수 있는 데이터\n",
        "sort_home_win=total_rank_df['홈승'].sort_values(ascending=False)\n",
        "\n",
        "plt.figure(figsize=(15, 15))\n",
        "plt.bar(total_rank_df['팀'],sort_home_win,width=0.8)\n",
        "plt.title(\"팀별 홈승\")\n",
        "plt.xlabel(\"팀\")\n",
        "plt.ylabel(\"홈승 수\")\n",
        "plt.show()"
      ],
      "metadata": {
        "colab": {
          "base_uri": "https://localhost:8080/",
          "height": 890
        },
        "id": "DzqokS1oVif5",
        "outputId": "c31c9d69-9111-4891-eeb9-55d541a2bbf0"
      },
      "execution_count": 279,
      "outputs": [
        {
          "output_type": "display_data",
          "data": {
            "text/plain": [
              "<Figure size 1080x1080 with 1 Axes>"
            ],
            "image/png": "[encoded data removed]"
          },
          "metadata": {
            "needs_background": "light"
          }
        }
      ]
    },
    {
      "cell_type": "markdown",
      "source": [
        "정규 시즌 팀별 원정승 비교"
      ],
      "metadata": {
        "id": "ykJbMM6KWgUB"
      }
    },
    {
      "cell_type": "code",
      "source": [
        "#원정에서 어느 팀이 강했나를 확인할 수 있는 데이터\n",
        "sort_away_win=total_rank_df['원정승'].sort_values(ascending=False)\n",
        "\n",
        "plt.figure(figsize=(15, 15))\n",
        "plt.bar(total_rank_df['팀'],sort_away_win,width=0.8)\n",
        "plt.title(\"팀별 원정승\")\n",
        "plt.xlabel(\"팀\")\n",
        "plt.ylabel(\"원정승 수\")\n",
        "plt.show()"
      ],
      "metadata": {
        "colab": {
          "base_uri": "https://localhost:8080/",
          "height": 890
        },
        "id": "gHKOvUI1WfyR",
        "outputId": "130f2978-2f6f-462a-aa05-38f063aaf143"
      },
      "execution_count": 280,
      "outputs": [
        {
          "output_type": "display_data",
          "data": {
            "text/plain": [
              "<Figure size 1080x1080 with 1 Axes>"
            ],
            "image/png": "[encoded data removed]"
          },
          "metadata": {
            "needs_background": "light"
          }
        }
      ]
    }
  ]
}